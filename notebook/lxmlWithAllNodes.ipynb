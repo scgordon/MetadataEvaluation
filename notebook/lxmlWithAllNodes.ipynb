{
 "cells": [
  {
   "cell_type": "code",
   "execution_count": 7,
   "metadata": {},
   "outputs": [],
   "source": [
    "from lxml import etree\n",
    "import io"
   ]
  },
  {
   "cell_type": "code",
   "execution_count": 23,
   "metadata": {},
   "outputs": [
    {
     "ename": "XSLTApplyError",
     "evalue": "Failed to evaluate the 'select' expression.",
     "output_type": "error",
     "traceback": [
      "\u001b[0;31m---------------------------------------------------------------------------\u001b[0m",
      "\u001b[0;31mXSLTApplyError\u001b[0m                            Traceback (most recent call last)",
      "\u001b[0;32m<ipython-input-23-ee33b20d246b>\u001b[0m in \u001b[0;36m<module>\u001b[0;34m()\u001b[0m\n\u001b[1;32m     96\u001b[0m \u001b[0mf\u001b[0m \u001b[0;34m=\u001b[0m \u001b[0mio\u001b[0m\u001b[0;34m.\u001b[0m\u001b[0mStringIO\u001b[0m\u001b[0;34m(\u001b[0m\u001b[0;34m'<dummy/>'\u001b[0m\u001b[0;34m)\u001b[0m\u001b[0;34m\u001b[0m\u001b[0m\n\u001b[1;32m     97\u001b[0m \u001b[0mdoc\u001b[0m \u001b[0;34m=\u001b[0m \u001b[0metree\u001b[0m\u001b[0;34m.\u001b[0m\u001b[0mparse\u001b[0m\u001b[0;34m(\u001b[0m\u001b[0mf\u001b[0m\u001b[0;34m)\u001b[0m\u001b[0;34m\u001b[0m\u001b[0m\n\u001b[0;32m---> 98\u001b[0;31m \u001b[0mresult_tree\u001b[0m \u001b[0;34m=\u001b[0m \u001b[0mtransform\u001b[0m\u001b[0;34m(\u001b[0m\u001b[0mdoc\u001b[0m\u001b[0;34m)\u001b[0m\u001b[0;34m\u001b[0m\u001b[0m\n\u001b[0m\u001b[1;32m     99\u001b[0m \u001b[0;34m\u001b[0m\u001b[0m\n\u001b[1;32m    100\u001b[0m \u001b[0;34m\u001b[0m\u001b[0m\n",
      "\u001b[0;32msrc/lxml/xslt.pxi\u001b[0m in \u001b[0;36mlxml.etree.XSLT.__call__ (src/lxml/etree.c:187200)\u001b[0;34m()\u001b[0m\n",
      "\u001b[0;31mXSLTApplyError\u001b[0m: Failed to evaluate the 'select' expression."
     ]
    }
   ],
   "source": [
    "xslt_root = etree.XML('''\\\n",
    "<xsl:stylesheet xmlns:xsl=\"http://www.w3.org/1999/XSL/Transform\" xmlns:xs=\"http://www.w3.org/2001/XMLSchema\" xmlns:saxon=\"http://saxon.sf.net/\" version=\"1.0\">\n",
    "  \n",
    "  <xsl:param name=\"recordSetPath\"/>\n",
    "  <xsl:param name=\"fileNamePattern\" select=\"'*.xml'\"/>\n",
    "  <xsl:param name=\"showValues\" select=\"1\"/>\n",
    "  <xsl:param name=\"showFilename\" select=\"1\"/>\n",
    "  <xsl:param name=\"showCollectionName\" select=\"1\"/>\n",
    "  <xsl:param name=\"delimiter\" select=\"','\"/>\n",
    "  <xsl:output method=\"text\"/>\n",
    "  <xsl:strip-space elements=\"*\"/>\n",
    "  <xsl:template match=\"/\">\n",
    "    <xsl:if test=\"$showCollectionName\">\n",
    "      <xsl:text>Collection</xsl:text>\n",
    "      <xsl:value-of select=\"$delimiter\"/>\n",
    "    </xsl:if>\n",
    "    <xsl:if test=\"$showFilename\">\n",
    "      <xsl:text>Record</xsl:text>\n",
    "      <xsl:value-of select=\"$delimiter\"/>\n",
    "    </xsl:if>\n",
    "    <xsl:text>XPath</xsl:text>\n",
    "    <xsl:if test=\"$showValues\">\n",
    "      <xsl:value-of select=\"$delimiter\"/>\n",
    "      <xsl:text>Content</xsl:text>\n",
    "    </xsl:if>\n",
    "    <xsl:text>&#xa;</xsl:text>\n",
    "    <xsl:for-each select=\"tokenize($fileNamePattern, ' ')\">\n",
    "      <xsl:variable name=\"xmlFilesSelect\" select=\"concat($recordSetPath, '?select=', string(.))\"/>\n",
    "      <xsl:for-each select=\"collection(iri-to-uri($xmlFilesSelect))\">\n",
    "        <!-- Determine Collection Name using the standard directory structure collection/dialect/xml/metadataRecords.\n",
    "          This option is only useful in the standard collection analysis scenario.\n",
    "        -->\n",
    "        <!--<xsl:variable name=\"collectionName\">\n",
    "          <xsl:for-each select=\"tokenize(document-uri(.), '/')\">\n",
    "            <xsl:if test=\"position() = last() - 3\">\n",
    "              <xsl:value-of select=\".\"/>\n",
    "            </xsl:if>\n",
    "          </xsl:for-each>\n",
    "        </xsl:variable>-->\n",
    "        <xsl:apply-templates>\n",
    "          <xsl:with-param name=\"collectionName\" select=\"tokenize(document-uri(.), '/')[last() - 3]\"/>\n",
    "          <xsl:with-param name=\"fileName\" select=\"tokenize(document-uri(.), '/')[last()]\"/>\n",
    "        </xsl:apply-templates>\n",
    "      </xsl:for-each>\n",
    "    </xsl:for-each>\n",
    "  </xsl:template>\n",
    "  <xsl:template match=\"node()\">\n",
    "    <xsl:param name=\"fileName\"/>\n",
    "    <xsl:param name=\"collectionName\"></xsl:param>\n",
    "    \n",
    "    <xsl:if test=\"not(normalize-space(text()[1]) = '')\">\n",
    "      <xsl:if test=\"$showCollectionName\">\n",
    "        <xsl:value-of select=\"$collectionName\"/>\n",
    "        <xsl:value-of select=\"$delimiter\"/>\n",
    "      </xsl:if>\n",
    "      <xsl:if test=\"$showFilename\">\n",
    "        <xsl:value-of select=\"$fileName\"/>\n",
    "        <xsl:value-of select=\"$delimiter\"/>\n",
    "      </xsl:if>\n",
    "      <xsl:value-of select=\"replace(saxon:path(), '\\[\\d*\\]', '')\"/>\n",
    "      <xsl:if test=\"$showValues\">\n",
    "        <xsl:value-of select=\"$delimiter\"/>\n",
    "        <xsl:text>\"</xsl:text>\n",
    "        <xsl:value-of select=\"replace(normalize-space(replace(., '\\[\\d*\\]', '')), '&quot;', '')\"/>\n",
    "        <xsl:text>\"</xsl:text>\n",
    "      </xsl:if>\n",
    "      <xsl:text>&#xa;</xsl:text>\n",
    "    </xsl:if>\n",
    "    <xsl:for-each select=\"@*\">\n",
    "      <xsl:if test=\"$showCollectionName\">\n",
    "        <xsl:value-of select=\"$collectionName\"/>\n",
    "        <xsl:value-of select=\"$delimiter\"/>\n",
    "      </xsl:if>\n",
    "      <xsl:if test=\"$showFilename\">\n",
    "        <xsl:value-of select=\"$fileName\"/>\n",
    "        <xsl:value-of select=\"$delimiter\"/>\n",
    "      </xsl:if>\n",
    "      <xsl:value-of select=\"normalize-space(replace(saxon:path(), '\\[\\d*\\]', ''))\"/>\n",
    "      <xsl:if test=\"$showValues\">\n",
    "        <xsl:value-of select=\"$delimiter\"/>\n",
    "        <xsl:text>\"</xsl:text>\n",
    "        <!-- remove double quotes -->\n",
    "        <xsl:value-of select=\"normalize-space(replace(., '&quot;',''))\"/>\n",
    "        <xsl:text>\"</xsl:text>\n",
    "      </xsl:if>\n",
    "      <xsl:text>&#xa;</xsl:text>\n",
    "    </xsl:for-each>\n",
    "    <xsl:apply-templates select=\"*\">\n",
    "      <xsl:with-param name=\"collectionName\" select=\"$collectionName\"/>\n",
    "      <xsl:with-param name=\"fileName\" select=\"$fileName\"/>\n",
    "    </xsl:apply-templates>\n",
    "  </xsl:template>\n",
    "</xsl:stylesheet>\n",
    "''')\n",
    "transform = etree.XSLT(xslt_root)\n",
    "\n",
    "f = io.StringIO('<dummy/>')\n",
    "doc = etree.parse(f)\n",
    "result_tree = transform(doc)\n",
    "\n",
    "        "
   ]
  },
  {
   "cell_type": "code",
   "execution_count": 24,
   "metadata": {},
   "outputs": [
    {
     "name": "stdout",
     "output_type": "stream",
     "text": [
      "<string>:0:0:ERROR:XPATH:XPATH_UNKNOWN_FUNC_ERROR: Unregistered function\n",
      "<xslt>:26:0:ERROR:XSLT:ERR_OK: runtime error, element 'for-each'\n",
      "<string>:0:0:ERROR:XSLT:ERR_OK: Failed to evaluate the 'select' expression.\n"
     ]
    }
   ],
   "source": [
    "print(transform.error_log)"
   ]
  },
  {
   "cell_type": "code",
   "execution_count": 25,
   "metadata": {},
   "outputs": [
    {
     "name": "stdout",
     "output_type": "stream",
     "text": [
      "message from line 0, col 0: Unregistered function\n",
      "domain: XPATH (12)\n",
      "type: XPATH_UNKNOWN_FUNC_ERROR (1209)\n",
      "level: ERROR (2)\n",
      "filename: <string>\n",
      "message from line 26, col 0: runtime error, element 'for-each'\n",
      "domain: XSLT (22)\n",
      "type: ERR_OK (0)\n",
      "level: ERROR (2)\n",
      "filename: <xslt>\n",
      "message from line 0, col 0: Failed to evaluate the 'select' expression.\n",
      "domain: XSLT (22)\n",
      "type: ERR_OK (0)\n",
      "level: ERROR (2)\n",
      "filename: <string>\n"
     ]
    }
   ],
   "source": [
    "for entry in transform.error_log:\n",
    "     print('message from line %s, col %s: %s' % (\n",
    "                entry.line, entry.column, entry.message))\n",
    "     print('domain: %s (%d)' % (entry.domain_name, entry.domain))\n",
    "     print('type: %s (%d)' % (entry.type_name, entry.type))\n",
    "     print('level: %s (%d)' % (entry.level_name, entry.level))\n",
    "     print('filename: %s' % entry.filename)"
   ]
  },
  {
   "cell_type": "code",
   "execution_count": null,
   "metadata": {},
   "outputs": [],
   "source": []
  }
 ],
 "metadata": {
  "kernelspec": {
   "display_name": "Python 3",
   "language": "python",
   "name": "python3"
  },
  "language_info": {
   "codemirror_mode": {
    "name": "ipython",
    "version": 3
   },
   "file_extension": ".py",
   "mimetype": "text/x-python",
   "name": "python",
   "nbconvert_exporter": "python",
   "pygments_lexer": "ipython3",
   "version": "3.6.4"
  }
 },
 "nbformat": 4,
 "nbformat_minor": 2
}
