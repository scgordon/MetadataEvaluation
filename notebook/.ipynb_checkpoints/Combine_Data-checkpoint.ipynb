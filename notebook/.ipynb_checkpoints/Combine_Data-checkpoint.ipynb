{
 "cells": [
  {
   "cell_type": "markdown",
   "metadata": {},
   "source": [
    "## Choose the collections you want to compare\n",
    "\n",
    "\n",
    "This notebook allows the user to select multiple data tables, and combine them into one table for processing."
   ]
  },
  {
   "cell_type": "code",
   "execution_count": 3,
   "metadata": {},
   "outputs": [],
   "source": [
    "import pandas as pd\n",
    "pd.options.display.max_colwidth=200\n",
    "import os\n",
    "from os import walk\n",
    "import ipywidgets as widgets\n",
    "from IPython.display import display"
   ]
  },
  {
   "cell_type": "markdown",
   "metadata": {},
   "source": [
    "Create a dropdown that allows multiple selection using command or click with the mouse or arrow keys to select additional individual data tables, or shift with the mouse to select each choice between the two clicked."
   ]
  },
  {
   "cell_type": "code",
   "execution_count": 7,
   "metadata": {},
   "outputs": [
    {
     "data": {
      "application/vnd.jupyter.widget-view+json": {
       "model_id": "d7b2b8bbd39b4a98b83ab1d8a9b580be"
      }
     },
     "metadata": {},
     "output_type": "display_data"
    },
    {
     "data": {
      "application/vnd.jupyter.widget-view+json": {
       "model_id": "8d536e6b98b1470696fbcdbd1db4eaa6"
      }
     },
     "metadata": {},
     "output_type": "display_data"
    },
    {
     "data": {
      "application/vnd.jupyter.widget-view+json": {
       "model_id": "ec7485ae15db4f6c852fab4afb1ec9b6"
      }
     },
     "metadata": {},
     "output_type": "display_data"
    }
   ],
   "source": [
    "#Creates a list of all the paths to evaluated collection data.\n",
    "EvaluatedMetadata=[]\n",
    "for dirpath, dirnames, filenames in os.walk(\"../data\"):\n",
    "    for filename in [f for f in filenames if f.endswith('Evaluated.csv.gz')]:\n",
    "        EvaluatedMetadata.extend([os.path.join(dirpath, filename)])\n",
    "\n",
    "#widget for selecting multiple collections        \n",
    "w1=widgets.SelectMultiple(\n",
    "    options=sorted(EvaluatedMetadata),\n",
    "    value=['../data/Sample/Sample_Sample_Evaluated.csv.gz'],\n",
    "    #rows=10,\n",
    "    description='Evaluated Data',\n",
    "    disabled=False\n",
    ")\n",
    "#Show the widget\n",
    "display(w1)\n",
    "\n",
    "#Creates a list of all the paths to evaluated collection data.\n",
    "QuickE=[]\n",
    "for dirpath, dirnames, filenames in os.walk(\"../data\"):\n",
    "    for filename in [f for f in filenames if f.endswith('QuickE.csv')]:\n",
    "        QuickE.extend([os.path.join(dirpath, filename)])\n",
    "\n",
    "#widget for selecting multiple collections        \n",
    "w2=widgets.SelectMultiple(\n",
    "    options=sorted(QuickE),\n",
    "    value=['../data/Sample/Sample_Sample_QuickE.csv'],\n",
    "    #rows=10,\n",
    "    description='QuickE Data',\n",
    "    disabled=False\n",
    ")\n",
    "#Show the widget\n",
    "display(w2)\n",
    "\n",
    "#Creates a list of all the paths to evaluated collection data.\n",
    "EvaluatedMetadata=[]\n",
    "for dirpath, dirnames, filenames in os.walk(\"../data\"):\n",
    "    for filename in [f for f in filenames if f.endswith('Occurance.csv')]:\n",
    "        EvaluatedMetadata.extend([os.path.join(dirpath, filename)])\n",
    "\n",
    "#widget for selecting multiple collections        \n",
    "w3=widgets.SelectMultiple(\n",
    "    options=sorted(EvaluatedMetadata),\n",
    "    value=['../data/Sample/Sample_Sample_Occurance.csv'],\n",
    "    #rows=10,\n",
    "    description='Occurance Data',\n",
    "    disabled=False\n",
    ")\n",
    "#Show the widget\n",
    "display(w3)"
   ]
  },
  {
   "cell_type": "markdown",
   "metadata": {},
   "source": [
    "Concatenate the files into one and save it in the combine directory"
   ]
  },
  {
   "cell_type": "code",
   "execution_count": 8,
   "metadata": {},
   "outputs": [
    {
     "ename": "TypeError",
     "evalue": "unsupported operand type(s) for +: 'SelectMultiple' and 'SelectMultiple'",
     "output_type": "error",
     "traceback": [
      "\u001b[0;31m---------------------------------------------------------------------------\u001b[0m",
      "\u001b[0;31mTypeError\u001b[0m                                 Traceback (most recent call last)",
      "\u001b[0;32m<ipython-input-8-f195084e5f9c>\u001b[0m in \u001b[0;36m<module>\u001b[0;34m()\u001b[0m\n\u001b[0;32m----> 1\u001b[0;31m \u001b[0mw\u001b[0m\u001b[0;34m=\u001b[0m\u001b[0mw1\u001b[0m\u001b[0;34m+\u001b[0m\u001b[0mw2\u001b[0m\u001b[0;34m+\u001b[0m\u001b[0mw3\u001b[0m\u001b[0;34m\u001b[0m\u001b[0m\n\u001b[0m\u001b[1;32m      2\u001b[0m \u001b[0mw\u001b[0m\u001b[0;34m\u001b[0m\u001b[0m\n",
      "\u001b[0;31mTypeError\u001b[0m: unsupported operand type(s) for +: 'SelectMultiple' and 'SelectMultiple'"
     ]
    }
   ],
   "source": [
    "w=w1+w2+w3\n",
    "w"
   ]
  },
  {
   "cell_type": "code",
   "execution_count": null,
   "metadata": {},
   "outputs": [],
   "source": [
    "w=w1+w2+w3\n",
    "CollectionComparisons=[]\n",
    "CollectionComparisons.extend(w.value)\n",
    "DataDestination=os.path.join('../data/CombineOutput', str(w2.value)+'Evaluated.csv.gz')\n",
    "CombinedDF = pd.concat((pd.read_csv(f) for f in CollectionComparisons)) \n",
    "CombinedDF.to_csv(DataDestination, mode = 'w', compression='gzip', index=False)\n",
    " "
   ]
  },
  {
   "cell_type": "markdown",
   "metadata": {},
   "source": []
  }
 ],
 "metadata": {
  "kernelspec": {
   "display_name": "Python 3",
   "language": "python",
   "name": "python3"
  },
  "language_info": {
   "codemirror_mode": {
    "name": "ipython",
    "version": 3
   },
   "file_extension": ".py",
   "mimetype": "text/x-python",
   "name": "python",
   "nbconvert_exporter": "python",
   "pygments_lexer": "ipython3",
   "version": "3.6.1"
  },
  "widgets": {
   "state": {
    "31aa209ce2c44217ad4fbfe6ce3fbe37": {
     "views": [
      {
       "cell_index": 7
      }
     ]
    }
   },
   "version": "1.2.0"
  }
 },
 "nbformat": 4,
 "nbformat_minor": 2
}
