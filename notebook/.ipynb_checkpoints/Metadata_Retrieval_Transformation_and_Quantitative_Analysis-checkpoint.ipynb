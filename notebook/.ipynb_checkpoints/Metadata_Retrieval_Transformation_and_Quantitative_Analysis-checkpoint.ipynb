{
 "cells": [
  {
   "cell_type": "markdown",
   "metadata": {},
   "source": [
    "### Collecting and analyzing EML records uploaded to DataONE by individual LTER sites, 2005-2018: MetadataRetrieval"
   ]
  },
  {
   "cell_type": "markdown",
   "metadata": {},
   "source": [
    "Two flaws were discovered in the course of looking at LTER and other membernodes; LTER is actually made of many different and semi-autonomous sites, and sampling from the entire collection doesnt give an accurate picture of collection improvement as a factor of experience with the LTER Recommendation. To address this I have made a workflow that queries DataONE for specific sites and creates directories of records uploaded during a year. This way we can look at the individual site's metadata usage evolution with respect to the elements in the LTER Recommendation Levels and better address the question of whether a community can successfully leverage adoption of a metadata recommendation to promote robust and complete metadata records that achieve a variety of documentation needs. After talking with a data manager at EDI I learned I could identify records by site using part of the record identifier. While it may make sense at a later date to include every record that was currently in the collection for a specific date range, we decided to focus on \n",
    "\n",
    "This notebook is firstly a way to create some markdown with SOLR requests and links to scripts and transforms utilized to build the metadata collections and to process the records for validity and eml: namespace consistency with evaluation transforms. Later versions may create cell magics to replace the bash used in my Mac's Terminal."
   ]
  },
  {
   "cell_type": "markdown",
   "metadata": {},
   "source": [
    "#### The MacBook Pro I used for the analysis:\n",
    "\n",
    "##### Hardware Overview:\n",
    "\n",
    "*  Model Name:\tMacBook Pro\n",
    "*  Model Identifier:\tMacBookPro11,1\n",
    "*  Processor Name:\tIntel Core i7\n",
    "*  Processor Speed:\t3 GHz\n",
    "*  Number of Processors:\t1\n",
    "*  Total Number of Cores:\t2\n",
    "*  L2 Cache (per Core):\t256 KB\n",
    "*  L3 Cache:\t4 MB\n",
    "*  Memory:\t16 GB\n",
    "*  Boot ROM Version:\tMBP111.0142.B00\n",
    "*  SMC Version (system):\t2.16f68\n",
    "*  Serial Number (system):\tC02P607XG3QT\n",
    "*  Hardware UUID:\t23B57CF1-5206-536F-B66B-CF69B31D234B\n",
    "  \n",
    "#####  System Software Overview:\n",
    "\n",
    "*  System Version:\tmacOS 10.13.3 (17D102)\n",
    "*  Kernel Version:\tDarwin 17.4.0\n",
    "*  Boot Volume:\tMacintosh HD\n",
    "*  Boot Mode:\tNormal\n",
    "*  Computer Name:\tbear\n",
    "*  User Name:\tSean Gordon (scgordon)\n",
    "*  Secure Virtual Memory:\tEnabled\n",
    "*  System Integrity Protection:\tEnabled\n",
    "*  Time since boot:\t12 days 4:39"
   ]
  },
  {
   "cell_type": "markdown",
   "metadata": {},
   "source": [
    "I obtained a list of sites from https://lternet.edu/site/"
   ]
  },
  {
   "cell_type": "markdown",
   "metadata": {},
   "source": [
    "* Andrews Forest LTER (AND)\n",
    "* Arctic LTER (ARC)\n",
    "* Baltimore Ecosystem Study (BES)\n",
    "* Beaufort Lagoon Ecosystem LTER (BLE)\n",
    "* Bonanza Creek LTER (BNZ)\n",
    "* California Current Ecosystem LTER (CCE)\n",
    "* Cedar Creek Ecosystem Science Reserve (CDR)\n",
    "* Central Arizona – Phoenix LTER (CAP)\n",
    "* Coweeta LTER (CWT)\n",
    "* Florida Coastal Everglades LTER (FCE)\n",
    "* Georgia Coastal Ecosystems LTER (GCE)\n",
    "* Harvard Forest LTER (HFR)\n",
    "* Hubbard Brook LTER (HBR)\n",
    "* Jornada Basin LTER (JRN)\n",
    "* Kellogg Biological Station LTER (KBS)\n",
    "* Konza Prairie LTER (KNZ)\n",
    "* LTER Network (NWK)\n",
    "* LTER Network Communications Office (NCO)\n",
    "* Luquillo LTER (LUQ)\n",
    "* McMurdo Dry Valleys LTER (MCM)\n",
    "* Moorea Coral Reef LTER (MCR)\n",
    "* Niwot Ridge LTER (NWT)\n",
    "* North Temperate Lakes LTER (NTL)\n",
    "* Northeast U.S. Shelf (NES)\n",
    "* Northern Gulf of Alaska (NGA)\n",
    "* Palmer Antarctica LTER (PAL)\n",
    "* Plum Island Ecosystems LTER (PIE)\n",
    "* Santa Barbara Coastal LTER (SBC)\n",
    "* Sevilleta LTER (SEV)\n",
    "* Virginia Coast Reserve LTER (VCR)"
   ]
  },
  {
   "cell_type": "markdown",
   "metadata": {},
   "source": [
    "### DataONE SOLR queries "
   ]
  },
  {
   "cell_type": "markdown",
   "metadata": {},
   "source": [
    "I queried DataONE using their SOLR index: https://cn.dataone.org/cn/v2/query/solr  "
   ]
  },
  {
   "cell_type": "markdown",
   "metadata": {},
   "source": [
    "First I determined how many metadata records were in the LTER collection at DataONE: http://cn.dataone.org/cn/v2/query/solr/?q=formatType:METADATA+AND+authoritativeMN:*LTER&rows=0\n",
    "\n",
    "On Feb first the LTER network had 75819 metadata records in DataONE."
   ]
  },
  {
   "cell_type": "markdown",
   "metadata": {},
   "source": [
    "```xml\n",
    "<response>\n",
    "<lst name=\"responseHeader\">\n",
    "<int name=\"status\">0</int>\n",
    "<int name=\"QTime\">4</int>\n",
    "<lst name=\"params\">\n",
    "<str name=\"q\">formatType:METADATA AND authoritativeMN:*LTER</str>\n",
    "<str name=\"rows\">0</str>\n",
    "</lst>\n",
    "</lst>\n",
    "<result name=\"response\" numFound=\"75819\" start=\"0\"/>\n",
    "</response> ```"
   ]
  },
  {
   "cell_type": "markdown",
   "metadata": {},
   "source": [
    "Then I retrieved total collection size for each site using the following query and replacing the \"X\" with the three character site identifier from the above list in lower case:\n",
    "\n",
    "http://cn.dataone.org/cn/v2/query/solr/?q=formatType:METADATA+AND+authoritativeMN:*LTER&fl=identifier,dateUploaded,datePublished,authoritativeMN,obsoletes,obsoletedBy,archived,dataUrl&rows=1"
   ]
  },
  {
   "cell_type": "markdown",
   "metadata": {},
   "source": [
    "* Andrews Forest LTER (AND) = 423\n",
    "* Arctic LTER (ARC) = 4429\n",
    "* Baltimore Ecosystem Study (BES) = 4048\n",
    "* Beaufort Lagoon Ecosystem (BLE) = 0\n",
    "* Bonanza Creek LTER (BNZ) = 5446\n",
    "* California Current Ecosystem LTER (CCE) = 210\n",
    "* Cedar Creek Ecosystem Science Reserve (CDR) = 2985\n",
    "* Central Arizona – Phoenix LTER (CAP) = 1757\n",
    "* Coweeta LTER (CWT) = 435\n",
    "* Florida Coastal Everglades LTER (FCE) = 2172\n",
    "* Georgia Coastal Ecosystems LTER (GCE) = 3728\n",
    "* Harvard Forest LTER (HFR) = 2177\n",
    "* Hubbard Brook LTER (HBR) = 394\n",
    "* Jornada Basin LTER (JRN) = 451\n",
    "* Kellogg Biological Station LTER (KBS) = 908\n",
    "* Konza Prairie LTER (KNZ) = 401\n",
    "* LTER Network (NWK) = 6\n",
    "* LTER Network Communications Office (NCO) = 0\n",
    "* Luquillo LTER (LUQ) = 491\n",
    "* McMurdo Dry Valleys LTER (MCM) = 892\n",
    "* Moorea Coral Reef LTER (MCR) = 432\n",
    "* Niwot Ridge LTER (NWT) = 411\n",
    "* North Temperate Lakes LTER (NTL) =1292\n",
    "* Northeast U.S. Shelf (NES) = 0\n",
    "* Northern Gulf of Alaska (NGA) = 0 \n",
    "* Palmer Antarctica LTER (PAL) = 296\n",
    "* Plum Island Ecosystems LTER (PIE) = 1132\n",
    "* Santa Barbara Coastal LTER (SBC) = 1073\n",
    "* Sevilleta LTER (SEV) = 1112\n",
    "* Shortgrass Steppe (No longer funded by NSF LTER) (SGS) = 504\n",
    "* Virginia Coast Reserve LTER (VCR) = 1763"
   ]
  },
  {
   "cell_type": "markdown",
   "metadata": {},
   "source": [
    "Something doesn't add up!\n",
    "\n",
    "Grand total found at sites: 38368\n",
    "\n",
    "Total DataONE gave  = 75819\n",
    "\n",
    "That means almost half the collection's identifiers did not follow the convention or were otherwise unavailable.\n",
    "\n",
    "When I was using a regex instead of a phrase search of the site identifier I found LTER-Landsat-LEDAPS while searching for a string that contained and.\n",
    "\n",
    "LTER-Landsat-LEDAPS had 20593 records.\n",
    "\n",
    "Leaving a total of 16858 records still unaccounted for."
   ]
  },
  {
   "cell_type": "markdown",
   "metadata": {},
   "source": [
    "38368 records is still a lot of metadata and most sites have hundreds if not thousands of records. Are the record uploads spread throughout the years in question?\n",
    "\n",
    "Let's look at the relevant lst element from the response for Andrews Forest LTER (AND):  \n",
    "\n",
    "http://cn.dataone.org/cn/v2/query/solr/?q=formatType:METADATA+AND+authoritativeMN:*LTER+AND+identifier:%27-lter-and%27&fl=dateUploaded,datePublished,dataUrl&rows=0&sort=dateUploaded+asc&facet=true&facet.missing=true&facet.limit=-1&facet.range=dateUploaded&facet.range.start=2005-01-01T00:00:00Z&facet.range.end=2018-12-31T23:59:59.999Z&facet.range.gap=%2B1YEAR&wt=xml\n"
   ]
  },
  {
   "cell_type": "markdown",
   "metadata": {},
   "source": [
    "```xml \n",
    "<result name=\"response\" numFound=\"424\" start=\"0\"/>\n",
    "<lst name=\"facet_counts\">\n",
    "<lst name=\"facet_queries\"/>\n",
    "<lst name=\"facet_fields\"/>\n",
    "<lst name=\"facet_dates\"/>\n",
    "<lst name=\"facet_ranges\">\n",
    "<lst name=\"dateUploaded\">\n",
    "<lst name=\"counts\">\n",
    "<int name=\"2005-01-01T00:00:00Z\">184</int>\n",
    "<int name=\"2006-01-01T00:00:00Z\">14</int>\n",
    "<int name=\"2007-01-01T00:00:00Z\">19</int>\n",
    "<int name=\"2008-01-01T00:00:00Z\">6</int>\n",
    "<int name=\"2009-01-01T00:00:00Z\">1</int>\n",
    "<int name=\"2010-01-01T00:00:00Z\">1</int>\n",
    "<int name=\"2011-01-01T00:00:00Z\">3</int>\n",
    "<int name=\"2012-01-01T00:00:00Z\">3</int>\n",
    "<int name=\"2013-01-01T00:00:00Z\">9</int>\n",
    "<int name=\"2014-01-01T00:00:00Z\">12</int>\n",
    "<int name=\"2015-01-01T00:00:00Z\">123</int>\n",
    "<int name=\"2016-01-01T00:00:00Z\">33</int>\n",
    "<int name=\"2017-01-01T00:00:00Z\">15</int>\n",
    "<int name=\"2018-01-01T00:00:00Z\">1</int>\n",
    "</lst> ```"
   ]
  },
  {
   "cell_type": "markdown",
   "metadata": {},
   "source": [
    "As you can see, some years have significantly more activity but there is at least some demonstration of complete metadata uploaded in each of the 14 years. Other sites will have years they do not upload metadata and the directory structure should reflect that. "
   ]
  },
  {
   "cell_type": "markdown",
   "metadata": {},
   "source": [
    "### Using Excel to create a XML retrival script"
   ]
  },
  {
   "attachments": {},
   "cell_type": "markdown",
   "metadata": {},
   "source": [
    "If I can create a solr xml response for each site that lists a download url and a date uploaded, I can create the proper directory structures and download the directories.\n",
    "\n",
    "To do this I took the list of sites and the counts of metadata and imported it into Excel. In Excel I used a formula to construct the solr commands that would download the required information and wrapped it in a curl to save as xml. The list is vertically oriented so the rest of the site identifiers and metadata record count are in ```F3:G33``` and the resulting curl commands are listed in ```J2:J33``` of the BuildcURLsALL worksheet in [LTERsiteEvolution.xlsx](../scripts/LTERsiteEvolution.xlsx)\n",
    "\n",
    "``` =$A$1&F2&$B$1&G2+1000&$C$1&UPPER($F2)&E$1&D$1 ```\n",
    "\n",
    "Where:\n",
    "\n",
    "* A1\t```curl \"http://cn.dataone.org/cn/v2/query/solr/?q=formatType:METADATA+AND+authoritativeMN:*LTER+AND++AND+identifier:%27-lter- ```\n",
    "* B1\t```%27&fl=dateUploaded,datePublished,dataUrl&rows=```\n",
    "* C1    ```&sort=dateUploaded+asc&facet=true&facet.missing=true&facet.limit=-1&facet.range=dateUploaded&facet.range.start=2005-01-01T00:00:00Z&facet.range.end=2018-12-31T23:59:59.999Z&facet.range.gap=%2B1YEAR&wt=xml\" > ```\n",
    "* F2    The three letter site identifier, lowercase\n",
    "* E1\t```.xml```\n",
    "* G2    The count of records in the SOLR index on Feb first (adding 1000 in the formula to ensure all records in the past month were collected through the resulting query as well)"
   ]
  },
  {
   "attachments": {},
   "cell_type": "markdown",
   "metadata": {},
   "source": [
    "Resulting in a list I could use to retrieve the XML I was going to need to transform in order to organize my download directories in preparation for evaluation. \n",
    "\n",
    "Here are the curl commands: [RecordQueries.sh](../scripts/RecordQueries.sh)\n",
    "\n",
    "You may notice some rows with \"#Value!\". Some sites did not appear in the identifiers or only had a few records. Finally Landsat was removed as the collection was all uploaded in 2013.\n",
    "\n",
    "Sites removed from evaluation:\n",
    "* Beaufort Lagoon Ecosystem (BLE) = 0\n",
    "* LTER Network (NWK) = 6\n",
    "* LTER Network Communications Office (NCO) = 0\n",
    "* Northeast U.S. Shelf (NES) = 0\n",
    "* Northern Gulf of Alaska (NGA) = 0 \n",
    "* Landsat (LANDSAT) = 20593\n",
    "\n",
    "\n",
    "\n"
   ]
  },
  {
   "cell_type": "markdown",
   "metadata": {},
   "source": [
    "### Metadata about metadata"
   ]
  },
  {
   "cell_type": "markdown",
   "metadata": {},
   "source": [
    "The resultant XML for the sites to be evaluated are in this directory: [solrMetadata](../solrMetadata/) \n",
    "\n",
    "Below is a snippet of the response. Each doc element is a record. I was interested in the date published field as well as a different way to organize, but as you can see not every record has that information. Thus we need to organize the records by the site they were created at and the date they were uploaded to DataONE."
   ]
  },
  {
   "cell_type": "markdown",
   "metadata": {},
   "source": [
    "```xml\n",
    "<response>\n",
    "    <lst name=\"responseHeader\">\n",
    "        <int name=\"status\">0</int>\n",
    "        <int name=\"QTime\">46</int>\n",
    "        <lst name=\"params\">\n",
    "            <str name=\"facet.range\">dateUploaded</str>\n",
    "            <str name=\"q\">formatType:METADATA AND authoritativeMN:*LTER AND identifier:'-lter-arc'</str>\n",
    "            <str name=\"facet.limit\">-1</str>\n",
    "            <str name=\"facet.range.gap\">+1YEAR</str>\n",
    "            <str name=\"fl\">dateUploaded,datePublished,dataUrl</str>\n",
    "            <str name=\"facet.missing\">true</str>\n",
    "            <str name=\"sort\">dateUploaded asc</str>\n",
    "            <str name=\"rows\">5429</str>\n",
    "            <str name=\"facet\">true</str>\n",
    "            <str name=\"wt\">xml</str>\n",
    "            <str name=\"facet.range.start\">2001-01-01T00:00:00Z</str>\n",
    "            <str name=\"facet.range.end\">2018-12-31T23:59:59.999Z</str>\n",
    "        </lst>\n",
    "    </lst>\n",
    "    <result name=\"response\" numFound=\"4435\" start=\"0\">\n",
    "        <doc>\n",
    "            <date name=\"dateUploaded\">2005-07-27T23:00:00Z</date>\n",
    "            <str name=\"dataUrl\">https://cn.dataone.org/cn/v2/resolve/doi%3A10.6073%2FAA%2Fknb-lter-arc.584.1</str>\n",
    "        </doc>\n",
    "        <doc>\n",
    "            <date name=\"dateUploaded\">2005-07-27T23:00:00Z</date>\n",
    "            <str name=\"dataUrl\">https://cn.dataone.org/cn/v2/resolve/knb-lter-arc.994.10</str>\n",
    "            <date name=\"datePublished\">2000-01-01T00:00:00Z</date>\n",
    "        </doc>\n",
    "        <doc>\n",
    "            <date name=\"dateUploaded\">2005-07-27T23:00:00Z</date>\n",
    "            <str name=\"dataUrl\">https://cn.dataone.org/cn/v2/resolve/knb-lter-arc.1406.7</str>\n",
    "            <date name=\"datePublished\">1999-01-01T00:00:00Z</date>\n",
    "        </doc>\n",
    "        <doc>\n",
    "            <date name=\"dateUploaded\">2005-07-27T23:00:00Z</date>\n",
    "            <str name=\"dataUrl\">https://cn.dataone.org/cn/v2/resolve/doi%3A10.6073%2FAA%2Fknb-lter-arc.1388.2</str>\n",
    "        </doc>```"
   ]
  },
  {
   "cell_type": "markdown",
   "metadata": {},
   "source": [
    "### Using XSL to transform the metadata about metadata into the metadata collections we want to analyze"
   ]
  },
  {
   "cell_type": "markdown",
   "metadata": {},
   "source": [
    "Now that we have a XML document for each site that lists a download url and a date uploaded for each record. I need to create a shell script for each collection that makes sure the proper directory structure for the record exists and saves the retrieved XML there. I used XSL to create the shell scripts from the XML: [createSiteSH.xsl](../scripts/createSiteSH.xsl) \n",
    "\n",
    "The resulting scripts are named for the site identifier (eg: [AND.sh](../scripts/AND.sh)) and located in the [../scripts](../scripts/) directory. "
   ]
  },
  {
   "cell_type": "markdown",
   "metadata": {},
   "source": [
    "Running these scripts results in directories being created for each site that had records with subdirectories for any year records were uploaded, with subdirectories /EML/xml. For example, the records for AND from 2005 were curled to [../metadata/AND/2005/EML/xml](../metadata/AND/2005/EML/xml) "
   ]
  },
  {
   "cell_type": "markdown",
   "metadata": {},
   "source": [
    "### Cleaning metadata: Normalizing the namespace"
   ]
  },
  {
   "cell_type": "markdown",
   "metadata": {},
   "source": [
    "Now that the metadata is downloaded and organized, we need to align all the namespace locations for EML. Over the 14 years in question EML has gone through several versions. The evaluation transform recognizes the location for the 2.1.1 version on the namespace location, so records with xmlns:eml=\"eml://ecoinformatics.org/eml-2.1.0\" and xmlns:eml=\"eml://ecoinformatics.org/eml-2.0.1\" recieved replacement a location to xmlns:eml=\"eml://ecoinformatics.org/eml-2.1.1\"\n",
    "\n",
    "This allows the files to be evaluated for [conceptual content](http://wiki.esipfed.org/index.php/Documentation_Terminology#Concepts). "
   ]
  },
  {
   "cell_type": "markdown",
   "metadata": {},
   "source": [
    "### evaluate using XSL and python to create data for analysis"
   ]
  },
  {
   "cell_type": "markdown",
   "metadata": {},
   "source": [
    "Using functions developed in the module [metadataEvaluation.py](../scripts/metadataEvaluation.py) and shell scripts to run transforms in a private repository data for xpath and concept occurrence and counts as well as all content in the records is created in subdirectories for each site in [../data](../data). \n",
    "\n",
    "This script is called [GetData.sh](../scripts/GetData.sh) and it takes as arguments the site abbreviation, the year in question, and the dialect and returns 6 data files. For example ```./GetData.sh AND 2005 EML ``` creates:\n",
    "\n",
    "* [2005_EML_Evaluated.csv.gz](../data/AND/2005_EML_Evaluated.csv.gz)\n",
    "* [2005_EML_Occurrence.csv](../data/AND/2005_EML_Occurrence.csv)\n",
    "* [2005_EML_RAD.csv](../data/AND/2005_EML_RAD.csv)\n",
    "* [2005_EML_QuickE.csv](../data/AND/2005_EML_QuickE.csv)\n",
    "* [2005_EML_XPathOccurrence.csv](../data/AND/2005_EML_XPathOccurrence.csv)\n",
    "* [2005_EML_XPathCounts.csv](../data/AND/2005_EML_XPathCounts.csv)"
   ]
  },
  {
   "cell_type": "markdown",
   "metadata": {},
   "source": [
    "### One shell to run them all, errors emerge"
   ]
  },
  {
   "cell_type": "markdown",
   "metadata": {},
   "source": [
    "[batch.sh](../scripts/batch.sh) creates a call to [GetData.sh](../scripts/GetData.sh) for each site/year. During the process of running the script it was discovered that 93 of the records contained invalid xml due to a server error, causing those collections to not be evaluated properly."
   ]
  },
  {
   "cell_type": "markdown",
   "metadata": {},
   "source": [
    "Recurl the 93, re run [batch.sh](../scripts/batch.sh) after adding combination functions to create combined data files for the site also fix the transform location for file to avoid moveup.sh\n",
    "\n",
    "We need a list of the records with errors. I mined the error reports from terminal using a regex in Sublime for the filepaths, which I can use to identify the proper curls to rerun"
   ]
  },
  {
   "cell_type": "markdown",
   "metadata": {},
   "source": [
    "Build exploration notebook with pixiedust to explore visualizations"
   ]
  },
  {
   "cell_type": "code",
   "execution_count": null,
   "metadata": {},
   "outputs": [],
   "source": []
  }
 ],
 "metadata": {
  "kernelspec": {
   "display_name": "Python 3",
   "language": "python",
   "name": "python3"
  },
  "language_info": {
   "codemirror_mode": {
    "name": "ipython",
    "version": 3
   },
   "file_extension": ".py",
   "mimetype": "text/x-python",
   "name": "python",
   "nbconvert_exporter": "python",
   "pygments_lexer": "ipython3",
   "version": "3.6.1"
  }
 },
 "nbformat": 4,
 "nbformat_minor": 2
}
