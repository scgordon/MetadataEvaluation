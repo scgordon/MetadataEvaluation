{
 "cells": [
  {
   "cell_type": "markdown",
   "metadata": {},
   "source": [
    "### This notebook uses pandas and jupyter widgets to explore data created from LTER site metadata using metadataEvaluation.py\n",
    "* \n",
    "\n",
    "* \n",
    "\n",
    "*  \n",
    "\n",
    "* "
   ]
  },
  {
   "cell_type": "code",
   "execution_count": null,
   "metadata": {
    "scrolled": false
   },
   "outputs": [],
   "source": [
    "import pandas as pd\n",
    "pd.set_option('max_colwidth',400)\n",
    "pd.set_option('max_rows',400)\n",
    "CombinedXPathOccurrenceDF=pd.read_csv('../data/Combined/Re3dataXPathOccurrence.csv')\n",
    "CombinedXPathOccurrenceDF=CombinedXPathOccurrenceDF[:-1]\n",
    "CombinedXPathOccurrenceDF"
   ]
  },
  {
   "cell_type": "markdown",
   "metadata": {},
   "source": [
    "Create a dataframe of the xpath counts for each record and collection date."
   ]
  },
  {
   "cell_type": "code",
   "execution_count": null,
   "metadata": {
    "scrolled": true
   },
   "outputs": [],
   "source": [
    "CombinedXPathCountsDF=pd.read_csv('../data/Combined/Re3dataXPathCounts.csv')\n",
    "CombinedXPathCountsDF"
   ]
  },
  {
   "cell_type": "markdown",
   "metadata": {},
   "source": [
    "Create a dataframe of the records in the collection missing any element used by at least one record in the collection, selectable by dropdown widget\n",
    "\n",
    "Example: /@schemaLocation provides a list of the records that do not have any content at the schemaLocation attribute of the root element"
   ]
  },
  {
   "cell_type": "code",
   "execution_count": null,
   "metadata": {
    "scrolled": true
   },
   "outputs": [],
   "source": [
    "from ipywidgets import *\n",
    "import ipywidgets as widgets\n",
    "from IPython.display import display\n",
    "XPathChoices=list(CombinedXPathCountsDF)\n",
    "XPathChoices=XPathChoices[2:]\n",
    "def RecordsMissingXPath(XPathChoice):\n",
    "    global xPathChoice\n",
    "    global doesntHaveEssentialDF\n",
    "    xPathChoice=XPathChoice\n",
    "    doesntHaveDF=CombinedXPathCountsDF.loc[CombinedXPathCountsDF[xPathChoice] == 0.0]\n",
    "    doesntHaveEssentialDF=doesntHaveDF[['Collection','Record']]\n",
    "    return doesntHaveEssentialDF\n",
    "interact(RecordsMissingXPath, XPathChoice=XPathChoices) "
   ]
  },
  {
   "cell_type": "markdown",
   "metadata": {},
   "source": [
    "Determine distribution of content at a chosen element, observe opportunities to improve consistency. Load one of the collections if the combined data is from the same organization/collection date. \n",
    "\n",
    "Example: /@schemaLocation lists all the records that do have content at the schemaLocation attribute of the root element"
   ]
  },
  {
   "cell_type": "code",
   "execution_count": null,
   "metadata": {},
   "outputs": [],
   "source": [
    "DataFiles=[]\n",
    "for dirpath, dirnames, filenames in os.walk(\"../data\"):\n",
    "    for filename in [f for f in filenames if f.endswith(\"Evaluated.csv.gz\")]:\n",
    "        DataFiles.extend([os.path.join(dirpath, filename)])\n",
    "def EvaluatedDataChoice(CSVchoice):\n",
    "    global EvaluatedMetadataDF\n",
    "    EvaluatedMetadataDF=pd.read_csv(CSVchoice)\n",
    "    return CSVchoice\n",
    "interact(EvaluatedDataChoice, CSVchoice=DataFiles)\n",
    "    \n",
    "\n",
    "\n"
   ]
  },
  {
   "cell_type": "markdown",
   "metadata": {},
   "source": [
    "#### Now select an element's xpath to see a distribution of the content in the collection"
   ]
  },
  {
   "cell_type": "code",
   "execution_count": null,
   "metadata": {},
   "outputs": [],
   "source": [
    "\n",
    "\n",
    "def ContentAtElement(XPathChoice):\n",
    "    global ContentAtElementDF\n",
    "    #xPathChoice=XPathChoice\n",
    "    ContentAtElementDF=EvaluatedMetadataDF.loc[EvaluatedMetadataDF.XPath==XPathChoice]\n",
    "    ContentAtElementDF=ContentAtElementDF[['Record','Content']]\n",
    "    distribution=ContentAtElementDF.groupby('Content').size().sort_values(0,False)\n",
    "\n",
    "    return XPathChoice, distribution \n",
    "\n",
    "interact(ContentAtElement, XPathChoice=XPathChoices)"
   ]
  },
  {
   "cell_type": "markdown",
   "metadata": {},
   "source": [
    "Look at the content of a specific element. Investigate if unique content should be used as bright points for other labs or if there are opportunities to improve element choice for content"
   ]
  },
  {
   "cell_type": "code",
   "execution_count": 1,
   "metadata": {
    "pixiedust": {
     "displayParams": {
      "aggregation": "COUNT",
      "binsize": "46",
      "chartsize": "98",
      "clusterby": "2006_EML",
      "color": "Concept",
      "handlerId": "scatterPlot",
      "keyFields": "2018_EML",
      "kind": "reg",
      "legend": "true",
      "logx": "false",
      "logy": "true",
      "mpld3": "false",
      "rendererId": "bokeh",
      "rowCount": "500",
      "valueFields": "2005_EML"
     }
    }
   },
   "outputs": [
    {
     "data": {
      "text/html": [
       "<style type=\"text/css\">.pd_warning{display:none;}</style><div class=\"pd_warning\"><em>Hey, there's something awesome here! To see it, open this notebook outside GitHub, in a viewer like Jupyter</em></div>"
      ],
      "text/plain": [
       "<IPython.core.display.HTML object>"
      ]
     },
     "metadata": {},
     "output_type": "display_data"
    }
   ],
   "source": [
    "import pandas as pd\n",
    "from pixiedust.display import *\n",
    "LTERrec=['Resource Identifier', 'Resource Title', 'Author', 'Metadata Contact', 'Contributor Name', 'Publisher', 'Publication Date', 'Resource Contact', 'Abstract', 'Keyword', 'Resource Distribution', 'Spatial Extent', 'Taxonomic Extent', 'Temporal Extent', 'Maintenance', 'Resource Use Constraints', 'Process Step', 'Project Description', 'Entity Type Definition', 'Attribute Definition', 'Resource Access Constraints', 'Resource Format', 'Attribute List', 'Attribute Constraints', 'Resource Quality Description']\n",
    "CombinedOccurrenceDF=pd.read_csv('../CombinedData/AND_AverageConceptOccurrencePerRecord.csv')\n",
    "CombinedOccurrenceDF2=CombinedOccurrenceDF[CombinedOccurrenceDF['Concept'].isin(LTERrec)]\n",
    "CombinedOccurrenceDF2.set_index('Concept', drop=False, inplace=True)\n",
    "CombinedOccurrenceDF3=CombinedOccurrenceDF2.reindex(LTERrec)\n",
    "#CombinedOccurrenceDF4=CombinedOccurrenceDF3.apply(pd.to_numeric)\n",
    "#CombinedOccurrenceDF3.iloc[:, 1:] = pd.to_numeric(CombinedOccurrenceDF3.iloc[:, 1:])\n",
    "CombinedOccurrenceDF3.iloc[:, 1:]=CombinedOccurrenceDF3.iloc[:, 1:].apply(pd.to_numeric, axis=0)\n",
    "\n",
    "display(CombinedOccurrenceDF3)"
   ]
  },
  {
   "cell_type": "code",
   "execution_count": 2,
   "metadata": {
    "pixiedust": {
     "displayParams": {}
    }
   },
   "outputs": [
    {
     "data": {
      "text/html": [
       "<style type=\"text/css\">.pd_warning{display:none;}</style><div class=\"pd_warning\"><em>Hey, there's something awesome here! To see it, open this notebook outside GitHub, in a viewer like Jupyter</em></div>"
      ],
      "text/plain": [
       "<IPython.core.display.HTML object>"
      ]
     },
     "metadata": {},
     "output_type": "display_data"
    }
   ],
   "source": [
    "display(CombinedOccurrenceDF3)"
   ]
  },
  {
   "cell_type": "code",
   "execution_count": null,
   "metadata": {},
   "outputs": [],
   "source": []
  }
 ],
 "metadata": {
  "kernelspec": {
   "display_name": "Python with Pixiedust (Spark 2.2)",
   "language": "python",
   "name": "pythonwithpixiedustspark22"
  },
  "language_info": {
   "codemirror_mode": {
    "name": "ipython",
    "version": 3
   },
   "file_extension": ".py",
   "mimetype": "text/x-python",
   "name": "python",
   "nbconvert_exporter": "python",
   "pygments_lexer": "ipython3",
   "version": "3.6.1"
  }
 },
 "nbformat": 4,
 "nbformat_minor": 2
}
