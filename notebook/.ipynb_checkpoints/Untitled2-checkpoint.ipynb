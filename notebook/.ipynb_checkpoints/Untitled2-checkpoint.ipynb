{
 "cells": [
  {
   "cell_type": "code",
   "execution_count": 5,
   "metadata": {
    "pixiedust": {
     "displayParams": {}
    }
   },
   "outputs": [
    {
     "ename": "NameError",
     "evalue": "name 'CombinedOccurrenceDF3' is not defined",
     "output_type": "error",
     "traceback": [
      "\u001b[0;31m---------------------------------------------------------------------------\u001b[0m",
      "\u001b[0;31mNameError\u001b[0m                                 Traceback (most recent call last)",
      "\u001b[0;32m<ipython-input-1-30c6a2d387b0>\u001b[0m in \u001b[0;36m<module>\u001b[0;34m()\u001b[0m\n\u001b[0;32m----> 1\u001b[0;31m \u001b[0mdisplay\u001b[0m\u001b[0;34m(\u001b[0m\u001b[0mCombinedOccurrenceDF3\u001b[0m\u001b[0;34m,\u001b[0m\u001b[0mcell_id\u001b[0m\u001b[0;34m=\u001b[0m\u001b[0;34m'4AC720F1F8F34F4184252CE457263CF1'\u001b[0m\u001b[0;34m,\u001b[0m\u001b[0mnostore_pixiedust\u001b[0m\u001b[0;34m=\u001b[0m\u001b[0;34m'true'\u001b[0m\u001b[0;34m,\u001b[0m\u001b[0mnostore_cw\u001b[0m\u001b[0;34m=\u001b[0m\u001b[0;34m'1098'\u001b[0m\u001b[0;34m,\u001b[0m\u001b[0mnostore_vh\u001b[0m\u001b[0;34m=\u001b[0m\u001b[0;34m'901'\u001b[0m\u001b[0;34m,\u001b[0m\u001b[0mshowchrome\u001b[0m\u001b[0;34m=\u001b[0m\u001b[0;34m'true'\u001b[0m\u001b[0;34m,\u001b[0m\u001b[0morg_params\u001b[0m\u001b[0;34m=\u001b[0m\u001b[0;34m'nostore_pixiedust'\u001b[0m\u001b[0;34m,\u001b[0m\u001b[0mnostore_bokeh\u001b[0m\u001b[0;34m=\u001b[0m\u001b[0;34m'false'\u001b[0m\u001b[0;34m)\u001b[0m\u001b[0;34m\u001b[0m\u001b[0m\n\u001b[0m",
      "\u001b[0;31mNameError\u001b[0m: name 'CombinedOccurrenceDF3' is not defined"
     ]
    }
   ],
   "source": [
    "import pandas as pd\n",
    "from pixiedust.display import *\n",
    "LTERrec=['Resource Identifier', 'Resource Title', 'Author', 'Metadata Contact', 'Contributor Name', 'Publisher', 'Publication Date', 'Resource Contact', 'Abstract', 'Keyword', 'Resource Distribution', 'Spatial Extent', 'Taxonomic Extent', 'Temporal Extent', 'Maintenance', 'Resource Use Constraints', 'Process Step', 'Project Description', 'Entity Type Definition', 'Attribute Definition', 'Resource Access Constraints', 'Resource Format', 'Attribute List', 'Attribute Constraints', 'Resource Quality Description']\n",
    "CombinedOccurrenceDF=pd.read_csv('../CombinedData2/AND_AverageConceptOccurrencePerRecord.csv')\n",
    "CombinedOccurrenceDF2=CombinedOccurrenceDF[CombinedOccurrenceDF['Concept'].isin(LTERrec)]\n",
    "CombinedOccurrenceDF2.set_index('Concept', drop=False, inplace=True)\n",
    "CombinedOccurrenceDF3=CombinedOccurrenceDF2.reindex(LTERrec)\n",
    "#CombinedOccurrenceDF4=CombinedOccurrenceDF3.apply(pd.to_numeric)\n",
    "#CombinedOccurrenceDF3.iloc[:, 1:] = pd.to_numeric(CombinedOccurrenceDF3.iloc[:, 1:])\n",
    "CombinedOccurrenceDF3.iloc[:, 1:]=CombinedOccurrenceDF3.iloc[:, 1:].apply(pd.to_numeric, axis=0)\n",
    "\n",
    "display(CombinedOccurrenceDF3)"
   ]
  },
  {
   "cell_type": "code",
   "execution_count": 6,
   "metadata": {
    "pixiedust": {
     "displayParams": {}
    }
   },
   "outputs": [
    {
     "ename": "NameError",
     "evalue": "name 'CombinedOccurrenceDF3' is not defined",
     "output_type": "error",
     "traceback": [
      "\u001b[0;31m---------------------------------------------------------------------------\u001b[0m",
      "\u001b[0;31mNameError\u001b[0m                                 Traceback (most recent call last)",
      "\u001b[0;32m<ipython-input-1-e127545f74ab>\u001b[0m in \u001b[0;36m<module>\u001b[0;34m()\u001b[0m\n\u001b[0;32m----> 1\u001b[0;31m \u001b[0mdisplay\u001b[0m\u001b[0;34m(\u001b[0m\u001b[0mCombinedOccurrenceDF3\u001b[0m\u001b[0;34m,\u001b[0m\u001b[0mcell_id\u001b[0m\u001b[0;34m=\u001b[0m\u001b[0;34m'73A2D1211C454B5CA7F2B8BC709208FB'\u001b[0m\u001b[0;34m,\u001b[0m\u001b[0mnostore_pixiedust\u001b[0m\u001b[0;34m=\u001b[0m\u001b[0;34m'true'\u001b[0m\u001b[0;34m,\u001b[0m\u001b[0mnostore_cw\u001b[0m\u001b[0;34m=\u001b[0m\u001b[0;34m'1098'\u001b[0m\u001b[0;34m,\u001b[0m\u001b[0mnostore_vh\u001b[0m\u001b[0;34m=\u001b[0m\u001b[0;34m'901'\u001b[0m\u001b[0;34m,\u001b[0m\u001b[0mshowchrome\u001b[0m\u001b[0;34m=\u001b[0m\u001b[0;34m'true'\u001b[0m\u001b[0;34m,\u001b[0m\u001b[0morg_params\u001b[0m\u001b[0;34m=\u001b[0m\u001b[0;34m'nostore_pixiedust'\u001b[0m\u001b[0;34m,\u001b[0m\u001b[0mnostore_bokeh\u001b[0m\u001b[0;34m=\u001b[0m\u001b[0;34m'false'\u001b[0m\u001b[0;34m)\u001b[0m\u001b[0;34m\u001b[0m\u001b[0m\n\u001b[0m",
      "\u001b[0;31mNameError\u001b[0m: name 'CombinedOccurrenceDF3' is not defined"
     ]
    }
   ],
   "source": [
    "display(CombinedOccurrenceDF3)"
   ]
  },
  {
   "cell_type": "code",
   "execution_count": null,
   "metadata": {},
   "outputs": [],
   "source": []
  }
 ],
 "metadata": {
  "kernelspec": {
   "display_name": "Python with Pixiedust (Spark 2.2)",
   "language": "python",
   "name": "pythonwithpixiedustspark22"
  },
  "language_info": {
   "codemirror_mode": {
    "name": "ipython",
    "version": 3
   },
   "file_extension": ".py",
   "mimetype": "text/x-python",
   "name": "python",
   "nbconvert_exporter": "python",
   "pygments_lexer": "ipython3",
   "version": "3.6.4"
  }
 },
 "nbformat": 4,
 "nbformat_minor": 2
}
