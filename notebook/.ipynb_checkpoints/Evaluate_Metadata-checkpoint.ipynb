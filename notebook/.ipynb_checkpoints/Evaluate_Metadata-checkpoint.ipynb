{
 "cells": [
  {
   "cell_type": "markdown",
   "metadata": {},
   "source": [
    "### This notebook allows the user to create a directory structure and locally upload the metadata to the Metadata Evaluation repository."
   ]
  },
  {
   "cell_type": "code",
   "execution_count": 1,
   "metadata": {
    "scrolled": true
   },
   "outputs": [],
   "source": [
    "import pandas as pd\n",
    "import os\n",
    "from os import walk\n",
    "import shutil\n",
    "from ipywidgets import *\n",
    "import ipywidgets as widgets\n",
    "import requests\n",
    "import io\n",
    "from IPython.display import display\n",
    "import metadataEvaluation"
   ]
  },
  {
   "cell_type": "markdown",
   "metadata": {
    "collapsed": true
   },
   "source": [
    "### Now let's select some metadata."
   ]
  },
  {
   "cell_type": "code",
   "execution_count": 2,
   "metadata": {},
   "outputs": [
    {
     "data": {
      "application/vnd.jupyter.widget-view+json": {
       "model_id": "dbe271d415d24f559b4b1ea1de206b23"
      }
     },
     "metadata": {},
     "output_type": "display_data"
    },
    {
     "data": {
      "application/vnd.jupyter.widget-view+json": {
       "model_id": "0648ada179cb49f88d9b47ba63d7732b"
      }
     },
     "metadata": {},
     "output_type": "display_data"
    },
    {
     "data": {
      "application/vnd.jupyter.widget-view+json": {
       "model_id": "e354a4e99b2f40c7a5ba336ceb8c94fb"
      }
     },
     "metadata": {},
     "output_type": "display_data"
    },
    {
     "data": {
      "application/vnd.jupyter.widget-view+json": {
       "model_id": "836afcf2b7af446ea5c612f292b61110"
      }
     },
     "metadata": {},
     "output_type": "display_data"
    }
   ],
   "source": [
    "#functions to identify and label an xml collection for Metadata Evaluation\n",
    "def OrganizationChoices(organization):\n",
    "    \n",
    "    metadataEvaluation.Organization=organization\n",
    "    print(\"Curating Organization\", metadataEvaluation.Organization)\n",
    "    \n",
    "def CollectionName(collection):\n",
    "    metadataEvaluation.Collection=collection\n",
    "    print(\"Collection is named\", metadataEvaluation.Collection)\n",
    "    \n",
    "def DialectName(dialect):\n",
    "    metadataEvaluation.Dialect=dialect\n",
    "    print(\"Collection is written in the\", metadataEvaluation.Dialect,\"dialect\")   \n",
    "    \n",
    "def metadataLocation(directory):\n",
    "    metadataEvaluation.MetadataLocation=directory\n",
    "    print(\"The local directory\", metadataEvaluation.MetadataLocation,\"contains the metadata for evaluation\")    \n",
    "    \n",
    "w=interactive(OrganizationChoices, organization='')    \n",
    "w2=interactive(CollectionName, collection='')\n",
    "w3=interactive(DialectName, dialect='')\n",
    "w4=interactive(metadataLocation, directory='')    \n",
    "\n",
    "display(w)\n",
    "display(w2)\n",
    "display(w3)\n",
    "display(w4)"
   ]
  },
  {
   "cell_type": "markdown",
   "metadata": {},
   "source": [
    "Evaluate the collection"
   ]
  },
  {
   "cell_type": "code",
   "execution_count": 5,
   "metadata": {},
   "outputs": [
    {
     "name": "stdout",
     "output_type": "stream",
     "text": [
      "/Users/scgordon/MetadataEvaluation/zip\n",
      "/Users/scgordon/MetadataEvaluation/upload\n",
      "/Users/scgordon/MetadataEvaluation\n",
      "/Users/scgordon/MetadataEvaluation/zip\n",
      "/Users/scgordon/MetadataEvaluation/data\n",
      "No elements contain a variant of 'Not provided' in their content for this collection\n",
      "Data products created for the woo Collection from chicka\n"
     ]
    }
   ],
   "source": [
    "%cd ../zip\n",
    "MetadataDestination=os.path.join(metadataEvaluation.Organization,metadataEvaluation.Collection,metadataEvaluation.Dialect,'xml')\n",
    "os.makedirs(MetadataDestination, exist_ok=True)\n",
    "os.makedirs(os.path.join('../data',metadataEvaluation.Organization), exist_ok=True)\n",
    "src_files = os.listdir(metadataEvaluation.MetadataLocation)\n",
    "for file_name in src_files:\n",
    "    full_file_name = os.path.join(metadataEvaluation.MetadataLocation, file_name)\n",
    "    if (os.path.isfile(full_file_name)):\n",
    "        shutil.copy(full_file_name, MetadataDestination)\n",
    "shutil.make_archive('../upload/metadata', 'zip', os.getcwd())\n",
    "\n",
    "%cd ../upload \n",
    "# Send metadata package, read the response into a dataframe\n",
    "url = 'http://metadig.nceas.ucsb.edu/metadata/evaluator'\n",
    "files = {'zipxml': open('metadata.zip', 'rb')}\n",
    "r = requests.post(url, files=files, headers={\"Accept-Encoding\": \"gzip\"})\n",
    "r.raise_for_status()\n",
    "EvaluatedMetadataDF = pd.read_csv(io.StringIO(r.text), quotechar='\"')\n",
    "\n",
    "#Change directories, delete upload directory and zip. Delete copied metadata.\n",
    "%cd ../\n",
    "shutil.rmtree('upload')\n",
    "%cd zip\n",
    "shutil.rmtree(metadataEvaluation.Organization)\n",
    "%cd ../data\n",
    "\n",
    "metadataEvaluation.dataProducts(EvaluatedMetadataDF)"
   ]
  },
  {
   "cell_type": "code",
   "execution_count": null,
   "metadata": {},
   "outputs": [],
   "source": [
    "#Create a list of subdirectories in the collection directory of MILE2 to select metadata for evaluation\n",
    "DataProducts = []\n",
    "for (dirpath, dirnames, filenames) in os.walk(\"../data\",metadataEvaluation.Organization):\n",
    "    DataProducts.extend(filenames)\n",
    "    break  \n",
    "\n",
    "#Create a function to select the organization the metadata comes from\n",
    "def OrganizationChoices(organization):\n",
    "    global OrganizationChoice\n",
    "    global Organization\n",
    "    DataProduct=dataProduct\n",
    "    print(\"Organization of the collection is\", Organization)\n",
    "\n",
    "#organization selector dropdown    \n",
    "interactive(OrganizationChoices, dataProduct=DataProducts)   \n"
   ]
  },
  {
   "cell_type": "markdown",
   "metadata": {
    "collapsed": true
   },
   "source": [
    "### Combine different types of evaluated data to compare between collections or observe trends over time\n",
    "\n",
    "* [Combine_Data](Combine_Data.ipynb)\n"
   ]
  },
  {
   "cell_type": "code",
   "execution_count": null,
   "metadata": {},
   "outputs": [],
   "source": []
  }
 ],
 "metadata": {
  "kernelspec": {
   "display_name": "Python 3",
   "language": "python",
   "name": "python3"
  },
  "language_info": {
   "codemirror_mode": {
    "name": "ipython",
    "version": 3
   },
   "file_extension": ".py",
   "mimetype": "text/x-python",
   "name": "python",
   "nbconvert_exporter": "python",
   "pygments_lexer": "ipython3",
   "version": "3.6.1"
  }
 },
 "nbformat": 4,
 "nbformat_minor": 2
}
