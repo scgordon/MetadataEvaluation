{
 "cells": [
  {
   "cell_type": "code",
   "execution_count": 4,
   "metadata": {},
   "outputs": [],
   "source": [
    "import xlsxwriter\n",
    "import glob\n",
    "import csv"
   ]
  },
  {
   "cell_type": "code",
   "execution_count": 162,
   "metadata": {},
   "outputs": [],
   "source": [
    "def OrganizationSpreadsheet(DataOrganization,xpathOccurrence,AVGxpathOccurrence):\n",
    "    #create spreadsheet for an organization \n",
    "    workbook = xlsxwriter.Workbook(Organization+'_Report.xlsx')\n",
    "    cell_format11 = workbook.add_format()\n",
    "    cell_format11.set_num_format(0x0a)\n",
    "    worksheet = workbook.add_worksheet('OccurrencesAnalysis')\n",
    "    worksheet.set_column('A:A', 70)\n",
    "    worksheet.write('A2', 'Number of Records')\n",
    "    worksheet.write('A3', 'Number of Elements / Attributes')\n",
    "    worksheet.write('A4', 'Coverage w/r to Repository (CR): number of elements / total number of elements')\n",
    "    worksheet.write('A5', 'Average Occurrence Rate')\n",
    "    worksheet.write('A6', 'Repository Completeness: Number of elements /  number of elements in most complete collection in repository')\n",
    "    worksheet.write('A7', 'Homogeneity: Number >= 1 / Total Number of elements in the collection')\n",
    "    worksheet.write('A8', 'Partial Elements: Number < 0 and < 1')\n",
    "    \n",
    "    ws = workbook.add_worksheet('xpathOccurrence')\n",
    "    ws.set_column('A:A', 50)\n",
    "    Reader = csv.reader(open(xpathOccurrence, 'r'), delimiter=',',quotechar='\"')\n",
    "    row_count = 0\n",
    "    print(filename)\n",
    "    for row in Reader:\n",
    "        for col in range(len(row)):\n",
    "            ws.write(row_count,col,row[col], cell_format11)\n",
    "        row_count +=1\n",
    "    \n",
    "    ws = workbook.add_worksheet('AVGxpathOccurrence')\n",
    "    ws.set_column('A:A', 50)\n",
    "    Reader = csv.reader(open(AVGxpathOccurrence, 'r'), delimiter=',',quotechar='\"')\n",
    "    row_count = 0\n",
    "    print(filename)\n",
    "    for row in Reader:\n",
    "        for col in range(len(row)):\n",
    "            ws.write(row_count,col,row[col],cell_format11)\n",
    "            cell = xlsxwriter.utility.xl_rowcol_to_cell(0, col)\n",
    "            cell2 = xlsxwriter.utility.xl_rowcol_to_cell(2, col)\n",
    "            colRange = xlsxwriter.utility.xl_range(1,col+1,4500,col+1)\n",
    "            colRange2 = xlsxwriter.utility.xl_range(2,1,2,len(row)-1)\n",
    "            formula = '=xpathOccurrence!'+'%s' % cell\n",
    "            worksheet.write(0,col,formula)\n",
    "        for col in range(len(row)-1):  \n",
    "            cell = xlsxwriter.utility.xl_rowcol_to_cell(0, col)\n",
    "            cell2 = xlsxwriter.utility.xl_rowcol_to_cell(2, col+1)\n",
    "            colRange = xlsxwriter.utility.xl_range(1,col+1,4500,col+1)\n",
    "            colRange2 = xlsxwriter.utility.xl_range(2,1,2,len(row)-1)\n",
    "            formula2 = '=COUNTIF(xpathOccurrence!'+colRange+',\">\"&0)'\n",
    "            worksheet.write(2,col+1,formula2)\n",
    "\n",
    "            formula3 = '='+cell2+'/COUNTA(xpathOccurrence!'+colRange+')'\n",
    "            worksheet.write(3,col+1,formula3)\n",
    "\n",
    "            formula4 = '=SUM(xpathOccurrence!'+colRange+')/'+'%s' % cell2\n",
    "            worksheet.write(4,col+1,formula4)\n",
    "\n",
    "            formula5 = '='+'%s' % cell2 +'/MAX('+colRange2+')'\n",
    "            worksheet.write(5,col+1,formula5)\n",
    "\n",
    "            formula6 = '=COUNTIF(xpathOccurrence!'+colRange+',\">=\"&1)/'+'%s' % cell2\n",
    "            worksheet.write(6,col+1,formula6)\n",
    "\n",
    "            formula7 = '=COUNTIFS(xpathOccurrence!'+colRange+',\">\"&0,xpathOccurrence!'+colRange+',\"<\"&1)/'+'%s' % cell2\n",
    "            worksheet.write(7,col+1,formula7)\n",
    "\n",
    "            formula1 = ''\n",
    "            worksheet.write(1,col+1,formula1)\n",
    "        row_count +=1\n",
    "\n",
    "    workbook.close()"
   ]
  },
  {
   "cell_type": "code",
   "execution_count": 163,
   "metadata": {},
   "outputs": [
    {
     "name": "stdout",
     "output_type": "stream",
     "text": [
      "/Users/scgordon/MetadataEvaluation/CombinedData/AND_xpathOccurrence.csv\n",
      "/Users/scgordon/MetadataEvaluation/CombinedData/AND_AVGxpathOccurrence.csv\n"
     ]
    }
   ],
   "source": [
    "OrganizationSpreadsheet('AND')"
   ]
  },
  {
   "cell_type": "code",
   "execution_count": 51,
   "metadata": {},
   "outputs": [
    {
     "data": {
      "text/plain": [
       "'H1'"
      ]
     },
     "execution_count": 51,
     "metadata": {},
     "output_type": "execute_result"
    }
   ],
   "source": [
    "df.loc[-1] = df.tail(1)  # adding a row\n",
    "df.index = df.index + 1  # shifting index\n",
    "df.sort_index(inplace=True) "
   ]
  }
 ],
 "metadata": {
  "kernelspec": {
   "display_name": "Python 3",
   "language": "python",
   "name": "python3"
  },
  "language_info": {
   "codemirror_mode": {
    "name": "ipython",
    "version": 3
   },
   "file_extension": ".py",
   "mimetype": "text/x-python",
   "name": "python",
   "nbconvert_exporter": "python",
   "pygments_lexer": "ipython3",
   "version": "3.6.4"
  }
 },
 "nbformat": 4,
 "nbformat_minor": 2
}
