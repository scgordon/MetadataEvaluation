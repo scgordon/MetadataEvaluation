{
 "cells": [
  {
   "cell_type": "markdown",
   "metadata": {},
   "source": [
    "### This notebook allows the user to evaluate the structure and content of valid XML metadata using the metadataEvaluation Python module. Documentation concepts can be identified for a broad subset of earth science metadata standards. These concepts allow for records to be assessed by many communities conventions for essential discovery metadata. "
   ]
  },
  {
   "cell_type": "markdown",
   "metadata": {
    "collapsed": true
   },
   "source": [
    "#### Now let's create the variables we will use for the functions needed from metadataEvaluation.py. If you change the text, the variable will change, no need to rerun the cell. This is helpful for creating data products from each lab"
   ]
  },
  {
   "cell_type": "code",
   "execution_count": 1,
   "metadata": {},
   "outputs": [
    {
     "data": {
      "application/vnd.jupyter.widget-view+json": {
       "model_id": "5b78ac3f1a2c4f588e3de13e1c406db9"
      }
     },
     "metadata": {},
     "output_type": "display_data"
    },
    {
     "data": {
      "application/vnd.jupyter.widget-view+json": {
       "model_id": "f12b7871227948a9812e26ed3026da61"
      }
     },
     "metadata": {},
     "output_type": "display_data"
    },
    {
     "data": {
      "application/vnd.jupyter.widget-view+json": {
       "model_id": "ce14004fb62940eda469468e74966153"
      }
     },
     "metadata": {},
     "output_type": "display_data"
    },
    {
     "data": {
      "application/vnd.jupyter.widget-view+json": {
       "model_id": "e418c7a9a8dc48a0b9b2fac2d43a09cf"
      }
     },
     "metadata": {},
     "output_type": "display_data"
    }
   ],
   "source": [
    "#modules to support functions\n",
    "import pandas\n",
    "from ipywidgets import *\n",
    "import ipywidgets as widgets\n",
    "from IPython.display import display\n",
    "import metadataEvaluation\n",
    "\n",
    "#functions to identify and label an xml collection for Metadata Evaluation\n",
    "def OrganizationChoices(organization):\n",
    "    global Organization\n",
    "    Organization=organization\n",
    "    print(\"Curating Organization\", Organization)\n",
    "    \n",
    "def CollectionName(collection):\n",
    "    global Collection\n",
    "    Collection=collection\n",
    "    print(\"Collection is named\", Collection)\n",
    "    \n",
    "def DialectName(dialect):\n",
    "    global Dialect\n",
    "    Dialect=dialect\n",
    "    print(\"Collection is written in the\", Dialect,\"dialect\")   \n",
    "    \n",
    "def metadataLocation(directory):\n",
    "    global MetadataLocation\n",
    "    MetadataLocation=directory\n",
    "    print(\"The local directory\", MetadataLocation,\"contains the metadata for evaluation\")    \n",
    "        \n",
    "w=interactive(OrganizationChoices, organization='')    \n",
    "w2=interactive(CollectionName, collection='')\n",
    "w3=interactive(DialectName, dialect='')\n",
    "w4=interactive(metadataLocation, directory='')    \n",
    "\n",
    "display(w)\n",
    "display(w2)\n",
    "display(w3)\n",
    "display(w4)"
   ]
  },
  {
   "cell_type": "markdown",
   "metadata": {},
   "source": [
    "### Run this cell for each lab to evaluate the collection and create data products using the variables in the widgets in the previous code cell."
   ]
  },
  {
   "cell_type": "code",
   "execution_count": null,
   "metadata": {
    "scrolled": true
   },
   "outputs": [],
   "source": [
    "# XMLeval uploads a zip file to the webservice, and reads the return into a dataframe\n",
    "EvaluatedMetadataDF=metadataEvaluation.XMLeval(MetadataLocation, Organization, Collection, Dialect)\n",
    "# simpleXPathDataProduct clarifies the xpaths by removing namespaces and in the case of ISO 19115* dialects removes the ISO classes\n",
    "SimplifiedEvaluatedMetadataDF=metadataEvaluation.simpleXPathDataProduct(EvaluatedMetadataDF, Organization, Collection, Dialect)\n",
    "# xpathOccurrence creates a pivot table of xpaths, record occurrence counts, occurrence percentages and average occurrences per record\n",
    "xpathOccurrenceDF=metadataEvaluation.xpathOccurrence(SimplifiedEvaluatedMetadataDF, Organization, Collection, Dialect)\n",
    "# XpathCounts creates a pivot table with each record a row and xpaths for the columns, with a record count\n",
    "metadataEvaluation.XpathCounts(SimplifiedEvaluatedMetadataDF, Organization, Collection, Dialect)\n",
    "xpathOccurrenceDF"
   ]
  },
  {
   "cell_type": "code",
   "execution_count": null,
   "metadata": {},
   "outputs": [],
   "source": [
    "f=metadataEvaluation.XpathCounts(SimplifiedEvaluatedMetadataDF, Organization, Collection, Dialect)\n",
    "f"
   ]
  },
  {
   "cell_type": "markdown",
   "metadata": {
    "collapsed": true
   },
   "source": [
    "### Combine the data to compare between collections"
   ]
  },
  {
   "cell_type": "code",
   "execution_count": 2,
   "metadata": {},
   "outputs": [
    {
     "data": {
      "application/vnd.jupyter.widget-view+json": {
       "model_id": "47d235d4a6f4409c84dc5b63dd3c0fa6"
      }
     },
     "metadata": {},
     "output_type": "display_data"
    },
    {
     "data": {
      "application/vnd.jupyter.widget-view+json": {
       "model_id": "1af5cb7ed97949b4bbc7ccc8722e7fcb"
      }
     },
     "metadata": {},
     "output_type": "display_data"
    }
   ],
   "source": [
    "#Create a dropdown that allows multiple selection using command and click with the mouse \n",
    "#or arrow keys to select additional individual data tables, or \n",
    "#shift with the mouse to select each choice between the two clicked.\n",
    "\n",
    "#Creates a list of all the paths to evaluated collection data.\n",
    "EvaluatedMetadata=[]\n",
    "for dirpath, dirnames, filenames in os.walk(\"../data\"):\n",
    "    for filename in [f for f in filenames if '.csv' in f]:\n",
    "        EvaluatedMetadata.extend([os.path.join(dirpath, filename)])\n",
    "\n",
    "#widget for selecting multiple collections        \n",
    "w6=widgets.SelectMultiple(\n",
    "    options=sorted(EvaluatedMetadata),\n",
    "    value=['../data/Sample/Sample_Sample_Evaluated.csv.gz'],\n",
    "    #rows=10,\n",
    "    description='Evaluated Data',\n",
    "    disabled=False\n",
    ")\n",
    "#Show the widget\n",
    "\n",
    "\n",
    "\n",
    "#widget for naming the file\n",
    "w5=widgets.Text(\n",
    "    value='',\n",
    "    placeholder='Your file name (no spaces)',\n",
    "    description='Name your File:',\n",
    "    disabled=False\n",
    ")\n",
    "\n",
    "display(w5)\n",
    "display(w6)"
   ]
  },
  {
   "cell_type": "markdown",
   "metadata": {},
   "source": [
    "create variables from the widget choices and run functions to combine selected xpathOccurrence data"
   ]
  },
  {
   "cell_type": "code",
   "execution_count": null,
   "metadata": {},
   "outputs": [],
   "source": [
    "CollectionComparisons=w6.value\n",
    "DataDestination=os.path.join('../data/Combined', str(w5.value)+'.csv')\n",
    "CombinedXPathOccurrenceDF=metadataEvaluation.CombineXPathOccurrence(CollectionComparisons,DataDestination)"
   ]
  },
  {
   "cell_type": "markdown",
   "metadata": {},
   "source": [
    "create variables from the widget choices and run functions to combine selected xpathCounts data"
   ]
  },
  {
   "cell_type": "code",
   "execution_count": null,
   "metadata": {},
   "outputs": [],
   "source": [
    "display(w5)\n",
    "display(w6)"
   ]
  },
  {
   "cell_type": "code",
   "execution_count": null,
   "metadata": {},
   "outputs": [],
   "source": [
    "CollectionComparisons=w6.value\n",
    "DataDestination=os.path.join('../data/Combined', str(w5.value)+'.csv')\n",
    "CombinedXPathCountsDF=metadataEvaluation.CombineXPathCounts(CollectionComparisons,DataDestination)\n",
    "CombinedXPathCountsDF"
   ]
  },
  {
   "cell_type": "markdown",
   "metadata": {},
   "source": [
    "create variables from the widget choices and run functions to combine selected EvaluatedSimplified data"
   ]
  },
  {
   "cell_type": "code",
   "execution_count": 3,
   "metadata": {},
   "outputs": [],
   "source": [
    "CollectionComparisons=w6.value\n",
    "DataDestination=os.path.join('../data/Combined', str(w5.value)+'.csv.gz')\n",
    "CombinedEvaluatedMetadataDF=metadataEvaluation.CombineEvaluatedMetadata(CollectionComparisons, DataDestination)"
   ]
  },
  {
   "cell_type": "code",
   "execution_count": null,
   "metadata": {},
   "outputs": [],
   "source": [
    "display(w5)\n",
    "display(w6)"
   ]
  },
  {
   "cell_type": "markdown",
   "metadata": {},
   "source": [
    "## Now that the data products are created and combined, we can look for a specific lab or across NCAR to discover which records don't contain an element, what content a certain element contains, and if a collection contains essential metadata using the following functions."
   ]
  },
  {
   "cell_type": "code",
   "execution_count": null,
   "metadata": {
    "scrolled": false
   },
   "outputs": [],
   "source": [
    "fredDF=XpathCounts(EvaluatedMetadataDF, Organization, Collection, Dialect)\n",
    "df2=fredDF.filter([XPath,\"/characterSet\", \"/characterSet/@codeList\"])\n",
    "df2"
   ]
  },
  {
   "cell_type": "code",
   "execution_count": null,
   "metadata": {},
   "outputs": [],
   "source": [
    "doesntHaveDF=fredDF.loc[fredDF['/metadataMaintenance/maintenanceAndUpdateFrequency'] == 0]\n",
    "doesntHaveDF"
   ]
  },
  {
   "cell_type": "code",
   "execution_count": null,
   "metadata": {
    "scrolled": true
   },
   "outputs": [],
   "source": [
    "content=EvaluatedMetadataDF.loc[EvaluatedMetadataDF['XPath']=='/metadataMaintenance/maintenanceAndUpdateFrequency']\n",
    "content"
   ]
  },
  {
   "cell_type": "code",
   "execution_count": null,
   "metadata": {},
   "outputs": [],
   "source": [
    "ConceptVerticals=EvaluatedMetadataDF.Concept.unique()\n",
    "Verticals=ConceptVerticals.tolist()\n",
    "\n",
    "def ConceptVerticalTable(Concept):\n",
    "    global VerticalTable\n",
    "    VerticalTable = EvaluatedMetadataDF[EvaluatedMetadataDF.Concept == Concept]\n",
    "    return VerticalTable\n",
    "interact(ConceptVerticalTable, Concept=Verticals) "
   ]
  },
  {
   "cell_type": "code",
   "execution_count": null,
   "metadata": {},
   "outputs": [],
   "source": [
    "from bokeh.io import show, output_file\n",
    "from bokeh.plotting import figure\n",
    "VerticalTable.groupby('Content').size()\n",
    "data = VerticalTable.Content.str.replace(':','.')\n",
    "\n",
    "p = Bar(data, 'Content', title=\"Vertical Value Occurance Count\", legend=False)\n",
    "\n",
    "show(p)"
   ]
  },
  {
   "cell_type": "code",
   "execution_count": null,
   "metadata": {},
   "outputs": [],
   "source": [
    "output_file(\"bars.html\")\n",
    "\n",
    "\n",
    "p = figure(y_range=VerticalTable, plot_height=250, title=\"Content Consistency\")\n",
    "\n",
    "p.hbar(y=VerticalTable, top=[5, 3, 4, 2, 4, 6], width=0.9)\n",
    "\n",
    "p.xgrid.grid_line_color = None\n",
    "p.y_range.start = 0\n",
    "\n",
    "show(p)"
   ]
  },
  {
   "cell_type": "code",
   "execution_count": null,
   "metadata": {},
   "outputs": [],
   "source": [
    "XPathVerticals=EvaluatedMetadataDF.XPath.unique()\n",
    "XPathVerticals=XPathVerticals.tolist()\n",
    "XPathVerticals\n",
    "def XPathVerticalTable(XPath):\n",
    "    global XPathVerticalTable\n",
    "    XPathVerticalTable = EvaluatedMetadataDF[EvaluatedMetadataDF.XPath == XPath]\n",
    "    return XPathVerticalTable\n",
    "interact(XPathVerticalTable, XPath=XPathVerticals) \n"
   ]
  }
 ],
 "metadata": {
  "kernelspec": {
   "display_name": "Python 3",
   "language": "python",
   "name": "python3"
  },
  "language_info": {
   "codemirror_mode": {
    "name": "ipython",
    "version": 3
   },
   "file_extension": ".py",
   "mimetype": "text/x-python",
   "name": "python",
   "nbconvert_exporter": "python",
   "pygments_lexer": "ipython3",
   "version": "3.6.1"
  }
 },
 "nbformat": 4,
 "nbformat_minor": 2
}
