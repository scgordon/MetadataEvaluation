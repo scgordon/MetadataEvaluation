{
 "cells": [
  {
   "cell_type": "markdown",
   "metadata": {},
   "source": [
    "### This notebook uses pandas and jupyter widgets to explore data created from LTER site metadata using metadataEvaluation.py\n",
    "* Check the occurrence of metadata elements and compare percentages across time-stamped collections\n",
    "\n",
    "* Create lists of records that do not contain an element\n",
    "\n",
    "* Create lists of the content that occurs at a selected element \n",
    "\n",
    "* count the unique values of content at a selected element to see what variations occurr at selected elements. Useful for identifiying opportunities to ensure consistency. Also useful to see if nonstandard element content has a standardized location"
   ]
  },
  {
   "cell_type": "code",
   "execution_count": null,
   "metadata": {},
   "outputs": [],
   "source": [
    "import glob\n",
    "from contextlib import contextmanager\n",
    "import os\n",
    "import pandas as pd\n",
    "\n",
    "#2005_EML_Evaluated.csv.gz\n",
    "#2005_EML_Occurrence.csv\n",
    "#2005_EML_RAD.csv\n",
    "#2005_EML_QuickE.csv\n",
    "#2005_EML_XPathOccurrence.csv\n",
    "#2005_EML_XPathCounts.csv\n",
    "@contextmanager\n",
    "def cd(newdir):\n",
    "    prevdir = os.getcwd()\n",
    "    os.chdir(os.path.expanduser(newdir))\n",
    "    try:\n",
    "        yield\n",
    "    finally:\n",
    "        os.chdir(prevdir)\n",
    "\n",
    "for subdir, dirs, files in os.walk('../data'):\n",
    "    for dir in dirs:\n",
    "        with cd('../data/'+dir):\n",
    "            XPathCountsList=glob.glob('*_EML_XpathCounts.csv')\n",
    "            mystring='../../data/'+dir+'/'\n",
    "            DataDestination='../../CombinedData/'+dir+'_XPathCounts.csv'\n",
    "            XPathCountsList.sort()\n",
    "            print(XPathCountsList)"
   ]
  },
  {
   "cell_type": "code",
   "execution_count": null,
   "metadata": {
    "scrolled": true
   },
   "outputs": [],
   "source": [
    "import glob\n",
    "from contextlib import contextmanager\n",
    "import os\n",
    "import pandas as pd\n",
    "\n",
    "#2005_EML_Evaluated.csv.gz\n",
    "#2005_EML_Occurrence.csv\n",
    "#2005_EML_RAD.csv\n",
    "#2005_EML_QuickE.csv\n",
    "#2005_EML_XPathOccurrence.csv\n",
    "#2005_EML_XPathCounts.csv\n",
    "@contextmanager\n",
    "def cd(newdir):\n",
    "    prevdir = os.getcwd()\n",
    "    os.chdir(os.path.expanduser(newdir))\n",
    "    try:\n",
    "        yield\n",
    "    finally:\n",
    "        os.chdir(prevdir)\n",
    "for subdir, dirs, files in os.walk('../data'):\n",
    "    for dir in dirs:\n",
    "        with cd('../data/'+dir):\n",
    "            print(os.getcwd())\n",
    "            EvaluatedList=glob.glob('*_EML_Evaluated.csv.gz')\n",
    "EvaluatedList            "
   ]
  },
  {
   "cell_type": "code",
   "execution_count": null,
   "metadata": {},
   "outputs": [],
   "source": [
    "tifCounter = 0\n",
    "for root, dirs, files in os.walk('../metadata'):\n",
    "    for file in files:    \n",
    "        if file.endswith('.xml'):\n",
    "            tifCounter += 1\n",
    "tifCounter            "
   ]
  },
  {
   "cell_type": "code",
   "execution_count": null,
   "metadata": {
    "scrolled": false
   },
   "outputs": [],
   "source": [
    "import glob\n",
    "from contextlib import contextmanager\n",
    "import os\n",
    "import pandas as pd\n",
    "\n",
    "#2005_EML_Evaluated.csv.gz\n",
    "#2005_EML_Occurrence.csv\n",
    "#2005_EML_RAD.csv\n",
    "#2005_EML_QuickE.csv\n",
    "#2005_EML_XPathOccurrence.csv\n",
    "#2005_EML_XPathCounts.csv\n",
    "@contextmanager\n",
    "def cd(newdir):\n",
    "    prevdir = os.getcwd()\n",
    "    os.chdir(os.path.expanduser(newdir))\n",
    "    try:\n",
    "        yield\n",
    "    finally:\n",
    "        os.chdir(prevdir)\n",
    "\n",
    "def CombineConceptOccurrence(CollectionComparisons, DataDestination):\n",
    "    CombinedDF = pd.concat((pd.read_csv(f) for f in CollectionComparisons)) \n",
    "    #CombinedDF.to_csv(DataDestination, mode = 'w', index=False)\n",
    "    CombinedPivotDF = CombinedDF.pivot(index='Concept', columns='Collection', values='CollectionOccurrence%')\n",
    "    pd.options.display.float_format = '{:,.0f}'.format\n",
    "    ConceptCountsDF=CombinedPivotDF.fillna(0)\n",
    "    ConceptCountsDF.columns.names = ['']\n",
    "    ConceptCountsDF=ConceptCountsDF.reset_index()\n",
    "\n",
    "    ConceptCountsDF.to_csv(DataDestination, mode = 'w', index=False)\n",
    "    return ConceptCountsDF\n",
    "#Using concept occurrence data products, combine them and produce a record count table with collections for columns and concepts for rows\n",
    "def CombineConceptCounts(CollectionComparisons, DataDestination):\n",
    "    CombinedDF = pd.concat((pd.read_csv(f) for f in CollectionComparisons))\n",
    "    RecordCountCombinedPivotDF = CombinedDF.pivot(index='Concept', columns='Collection', values='RecordCount')\n",
    "    pd.options.display.float_format = '{:,.0f}'.format\n",
    "    RecordCountCombinedPivotDF=RecordCountCombinedPivotDF.fillna(0)\n",
    "    RecordCountCombinedPivotDF.columns.names = ['']\n",
    "    RecordCountCombinedPivotDF=RecordCountCombinedPivotDF.reset_index()\n",
    "    RecordCountCombinedPivotDF.to_csv(DataDestination, mode = 'w', index=False)\n",
    "    return RecordCountCombinedPivotDF\n",
    "\n",
    "#Using xpath occurrence data products, combine them and produce a collection occurrence% table with collections for columns and concepts for rows\n",
    "def CombineXPathOccurrence(CollectionComparisons, DataDestination):\n",
    "    \n",
    "    CombinedDF = pd.concat((pd.read_csv(f) for f in CollectionComparisons)) \n",
    "    #CombinedDF.to_csv(DataDestination, mode = 'w', index=False)\n",
    "    CombinedPivotDF = CombinedDF.pivot(index='XPath', columns='Collection', values='CollectionOccurrence%')\n",
    "    pd.options.display.float_format = '{:,.0f}'.format\n",
    "    ConceptCountsDF=CombinedPivotDF.fillna(0)\n",
    "    ConceptCountsDF.columns.names = ['']\n",
    "    ConceptCountsDF=ConceptCountsDF.reset_index()\n",
    "\n",
    "    ConceptCountsDF.to_csv(DataDestination, mode = 'w', index=False)\n",
    "    return ConceptCountsDF\n",
    "#Using xpath occurrence data products, combine them and produce a record count table with collections for columns and concepts for rows\n",
    "def CombineXPathCounts(CollectionComparisons, DataDestination):\n",
    "    #os.makedirs('../data/Combined', exist_ok=True)\n",
    "    XPathCountCombinedDF = pd.concat((pd.read_csv(f) for f in CollectionComparisons), axis=0, ignore_index=True)\n",
    "    XPathCountCombinedDF=XPathCountCombinedDF.fillna(0)\n",
    "    XPathCountCombinedDF.columns.names = ['']\n",
    "\n",
    "    # get a list of columns\n",
    "    cols = list(XPathCountCombinedDF)\n",
    "    \n",
    "    # move the column to head of list using index, pop and insert\n",
    "    cols.insert(0, cols.pop(cols.index('Record')))\n",
    "    # use ix to reorder\n",
    "    CombinedXPathCountsDF = XPathCountCombinedDF.loc[:, cols]\n",
    "    cols2 = list(CombinedXPathCountsDF)\n",
    "    # move the column to head of list using index, pop and insert\n",
    "    cols2.insert(0, cols2.pop(cols.index('Collection')))\n",
    "    # use ix to reorder\n",
    "    CombinedXPathCountsDF = CombinedXPathCountsDF.loc[:, cols2]\n",
    "    CombinedXPathCountsDF\n",
    "\n",
    "    CombinedXPathCountsDF.to_csv(DataDestination, mode = 'w', index=False)\n",
    "    return CombinedXPathCountsDF\n",
    " #Using xpath occurrence data products, combine them and produce a collection occurrence% table with collections for columns and concepts for rows\n",
    "def CombineEvaluatedMetadata(CollectionComparisons, DataDestination):\n",
    "    #os.makedirs('../data/Combined', exist_ok=True)\n",
    "    CombinedDF = pd.concat((pd.read_csv(f) for f in CollectionComparisons)) \n",
    "   \n",
    "    CombinedDF.to_csv(DataDestination, mode = 'w',compression='gzip', index=False)\n",
    "    return CombinedDF   \n",
    "        \n",
    "for subdir, dirs, files in os.walk('../data'):\n",
    "    for dir in dirs:\n",
    "        with cd('../data/'+dir):\n",
    "            #print(os.getcwd())\n",
    "            EvaluatedList=glob.glob('*_EML_Evaluated.csv.gz')\n",
    "            mystring='../../data/'+dir+'/'\n",
    "            DataDestination='../../CombinedData/'+dir+'_EvaluatedContent.csv.gz'\n",
    "            EvaluatedList.sort()\n",
    "            EvaluatedList=[mystring + s for s in EvaluatedList]\n",
    "            CombineEvaluatedMetadata(EvaluatedList, DataDestination)\n",
    "\n",
    "            OccurrenceList=glob.glob('*_EML_Occurrence.csv')\n",
    "            mystring='../../data/'+dir+'/'\n",
    "            DataDestination='../../CombinedData/'+dir+'_ConceptOccurrence.csv'\n",
    "            OccurrenceList.sort()\n",
    "            OccurrenceList=[mystring + s for s in OccurrenceList]\n",
    "            CombineConceptOccurrence(OccurrenceList, DataDestination)\n",
    "            \n",
    "            #RADList=glob.glob('*_EML_RAD.csv')\n",
    "            #mystring='../../data/'+dir+'/'\n",
    "            #DataDestination='../../CombinedData/'+dir+'_ConceptCounts.csv'\n",
    "            #RADList.sort()\n",
    "            #RADList=[mystring + s for s in RADList]\n",
    "            #CombineConceptCounts(RADList, DataDestination)\n",
    "            \n",
    "            #QuickEList=glob.glob('*_EML_QuickE.csv')\n",
    "            #mystring='../../data/'+dir+'/'\n",
    "            #DataDestination='../../CombinedData/'+dir+'_QuickE.csv'\n",
    "            #QuickEList.sort()\n",
    "            #QuickEList=[mystring + s for s in QuickEList]\n",
    "            #CombineXPathCounts(QuickEList, DataDestination)\n",
    "            \n",
    "            XPathCountsList=glob.glob('*_XpathCounts.csv')\n",
    "            mystring='../../data/'+dir+'/'\n",
    "            DataDestination='../../CombinedData/'+dir+'_XpathCounts.csv'\n",
    "            XPathCountsList.sort()\n",
    "            XPathCountsList=[mystring + s for s in XPathCountsList]\n",
    "            CombineXPathCounts(XPathCountsList, DataDestination)\n",
    "            \n",
    "            XPathOccurrenceList=glob.glob('*_EML_XPathOccurrence.csv')\n",
    "            mystring='../../data/'+dir+'/'\n",
    "            DataDestination='../../CombinedData/'+dir+'_XPathOccurrence.csv'\n",
    "            XPathOccurrenceList.sort()\n",
    "            XPathOccurrenceList=[mystring + s for s in XPathOccurrenceList]\n",
    "            CombineXPathOccurrence(XPathOccurrenceList, DataDestination)\n",
    "\n",
    "\n"
   ]
  },
  {
   "cell_type": "code",
   "execution_count": null,
   "metadata": {},
   "outputs": [],
   "source": [
    "EvaluatedList"
   ]
  },
  {
   "cell_type": "markdown",
   "metadata": {},
   "source": [
    "##### Combine XPath Occurrence csv from each lab to create an overview of the repository at different points in time.\n"
   ]
  },
  {
   "cell_type": "code",
   "execution_count": null,
   "metadata": {
    "scrolled": false
   },
   "outputs": [],
   "source": [
    "import pandas as pd\n",
    "pd.set_option('max_colwidth',400)\n",
    "pd.set_option('max_rows',400)\n",
    "CombinedXPathOccurrenceDF=pd.read_csv('../data/Combined/Re3dataXPathOccurrence.csv')\n",
    "CombinedXPathOccurrenceDF=CombinedXPathOccurrenceDF[:-1]\n",
    "CombinedXPathOccurrenceDF"
   ]
  },
  {
   "cell_type": "markdown",
   "metadata": {},
   "source": [
    "Create a dataframe of the xpath counts for each record and collection date."
   ]
  },
  {
   "cell_type": "code",
   "execution_count": null,
   "metadata": {
    "scrolled": true
   },
   "outputs": [],
   "source": [
    "CombinedXPathCountsDF=pd.read_csv('../data/Combined/Re3dataXPathCounts.csv')\n",
    "CombinedXPathCountsDF"
   ]
  },
  {
   "cell_type": "markdown",
   "metadata": {},
   "source": [
    "Create a dataframe of the records in the collection missing any element used by at least one record in the collection, selectable by dropdown widget\n",
    "\n",
    "Example: /@schemaLocation provides a list of the records that do not have any content at the schemaLocation attribute of the root element"
   ]
  },
  {
   "cell_type": "code",
   "execution_count": null,
   "metadata": {
    "scrolled": true
   },
   "outputs": [],
   "source": [
    "from ipywidgets import *\n",
    "import ipywidgets as widgets\n",
    "from IPython.display import display\n",
    "XPathChoices=list(CombinedXPathCountsDF)\n",
    "XPathChoices=XPathChoices[2:]\n",
    "def RecordsMissingXPath(XPathChoice):\n",
    "    global xPathChoice\n",
    "    global doesntHaveEssentialDF\n",
    "    xPathChoice=XPathChoice\n",
    "    doesntHaveDF=CombinedXPathCountsDF.loc[CombinedXPathCountsDF[xPathChoice] == 0.0]\n",
    "    doesntHaveEssentialDF=doesntHaveDF[['Collection','Record']]\n",
    "    return doesntHaveEssentialDF\n",
    "interact(RecordsMissingXPath, XPathChoice=XPathChoices) "
   ]
  },
  {
   "cell_type": "markdown",
   "metadata": {},
   "source": [
    "Determine distribution of content at a chosen element, observe opportunities to improve consistency. Load one of the collections if the combined data is from the same organization/collection date. \n",
    "\n",
    "Example: /@schemaLocation lists all the records that do have content at the schemaLocation attribute of the root element"
   ]
  },
  {
   "cell_type": "code",
   "execution_count": null,
   "metadata": {},
   "outputs": [],
   "source": [
    "DataFiles=[]\n",
    "for dirpath, dirnames, filenames in os.walk(\"../data\"):\n",
    "    for filename in [f for f in filenames if f.endswith(\"Evaluated.csv.gz\")]:\n",
    "        DataFiles.extend([os.path.join(dirpath, filename)])\n",
    "def EvaluatedDataChoice(CSVchoice):\n",
    "    global EvaluatedMetadataDF\n",
    "    EvaluatedMetadataDF=pd.read_csv(CSVchoice)\n",
    "    return CSVchoice\n",
    "interact(EvaluatedDataChoice, CSVchoice=DataFiles)\n",
    "    \n",
    "\n",
    "\n"
   ]
  },
  {
   "cell_type": "markdown",
   "metadata": {},
   "source": [
    "#### Now select an element's xpath to see a distribution of the content in the collection"
   ]
  },
  {
   "cell_type": "code",
   "execution_count": null,
   "metadata": {},
   "outputs": [],
   "source": [
    "\n",
    "\n",
    "def ContentAtElement(XPathChoice):\n",
    "    global ContentAtElementDF\n",
    "    #xPathChoice=XPathChoice\n",
    "    ContentAtElementDF=EvaluatedMetadataDF.loc[EvaluatedMetadataDF.XPath==XPathChoice]\n",
    "    ContentAtElementDF=ContentAtElementDF[['Record','Content']]\n",
    "    distribution=ContentAtElementDF.groupby('Content').size().sort_values(0,False)\n",
    "\n",
    "    return XPathChoice, distribution \n",
    "\n",
    "interact(ContentAtElement, XPathChoice=XPathChoices)"
   ]
  },
  {
   "cell_type": "markdown",
   "metadata": {},
   "source": [
    "Look at the content of a specific element. Investigate if unique content should be used as bright points for other labs or if there are opportunities to improve element choice for content"
   ]
  },
  {
   "cell_type": "code",
   "execution_count": null,
   "metadata": {},
   "outputs": [],
   "source": [
    "XPathChoices2=list(CombinedXPathCountsDF)\n",
    "XPathChoices2=XPathChoices2[2:]\n",
    "def ContentAtElement(XPathChoice2):\n",
    "    global CombinedContentAtElementDF2\n",
    "    \n",
    "    CombinedContentAtElementDF2=EvaluatedMetadataDF.loc[EvaluatedMetadataDF.XPath==XPathChoice2]\n",
    "    CombinedContentAtElementDF2=CombinedContentAtElementDF2[['Collection','Record','Content']]\n",
    "\n",
    "    return CombinedContentAtElementDF2\n",
    "\n",
    "w=interact(ContentAtElement, XPathChoice2=XPathChoices2)\n",
    "display(w)"
   ]
  },
  {
   "cell_type": "code",
   "execution_count": null,
   "metadata": {},
   "outputs": [],
   "source": []
  }
 ],
 "metadata": {
  "kernelspec": {
   "display_name": "Python 3",
   "language": "python",
   "name": "python3"
  },
  "language_info": {
   "codemirror_mode": {
    "name": "ipython",
    "version": 3
   },
   "file_extension": ".py",
   "mimetype": "text/x-python",
   "name": "python",
   "nbconvert_exporter": "python",
   "pygments_lexer": "ipython3",
   "version": "3.6.4"
  }
 },
 "nbformat": 4,
 "nbformat_minor": 2
}
